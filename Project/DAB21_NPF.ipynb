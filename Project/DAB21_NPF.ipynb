{
 "cells": [
  {
   "cell_type": "markdown",
   "id": "delayed-trout",
   "metadata": {
    "papermill": {
     "duration": 0.041824,
     "end_time": "2021-06-03T23:02:38.595553",
     "exception": false,
     "start_time": "2021-06-03T23:02:38.553729",
     "status": "completed"
    },
    "tags": []
   },
   "source": [
    "# Import libraries"
   ]
  },
  {
   "cell_type": "code",
   "execution_count": 1,
   "id": "aquatic-experience",
   "metadata": {
    "execution": {
     "iopub.execute_input": "2021-06-03T23:02:38.686716Z",
     "iopub.status.busy": "2021-06-03T23:02:38.686015Z",
     "iopub.status.idle": "2021-06-03T23:02:40.546503Z",
     "shell.execute_reply": "2021-06-03T23:02:40.545925Z",
     "shell.execute_reply.started": "2021-05-20T22:07:08.453475Z"
    },
    "papermill": {
     "duration": 1.911262,
     "end_time": "2021-06-03T23:02:40.546687",
     "exception": false,
     "start_time": "2021-06-03T23:02:38.635425",
     "status": "completed"
    },
    "tags": []
   },
   "outputs": [],
   "source": [
    "import numpy as np\n",
    "import pandas as pd\n",
    "\n",
    "import gc\n",
    "import matplotlib.pyplot as plt\n",
    "import xgboost as xgb\n",
    "from sklearn.compose import ColumnTransformer\n",
    "from sklearn.pipeline import Pipeline\n",
    "from sklearn.preprocessing import OneHotEncoder, StandardScaler\n",
    "from sklearn.model_selection import cross_val_score\n",
    "from sklearn.metrics import make_scorer\n",
    "from sklearn.metrics import accuracy_score\n",
    "from sklearn.ensemble import RandomForestRegressor\n",
    "from sklearn.model_selection import train_test_split\n",
    "from sklearn.linear_model import Ridge\n",
    "from sklearn.metrics import f1_score\n",
    "\n",
    "%matplotlib inline"
   ]
  },
  {
   "cell_type": "code",
   "execution_count": 2,
   "id": "disturbed-health",
   "metadata": {
    "execution": {
     "iopub.execute_input": "2021-06-03T23:02:41.037386Z",
     "iopub.status.busy": "2021-06-03T23:02:41.036873Z",
     "iopub.status.idle": "2021-06-03T23:02:50.908407Z",
     "shell.execute_reply": "2021-06-03T23:02:50.907926Z",
     "shell.execute_reply.started": "2021-05-20T22:19:36.586424Z"
    },
    "papermill": {
     "duration": 9.916412,
     "end_time": "2021-06-03T23:02:50.908547",
     "exception": false,
     "start_time": "2021-06-03T23:02:40.992135",
     "status": "completed"
    },
    "tags": []
   },
   "outputs": [
    {
     "data": {
      "text/html": [
       "<div>\n",
       "<style scoped>\n",
       "    .dataframe tbody tr th:only-of-type {\n",
       "        vertical-align: middle;\n",
       "    }\n",
       "\n",
       "    .dataframe tbody tr th {\n",
       "        vertical-align: top;\n",
       "    }\n",
       "\n",
       "    .dataframe thead th {\n",
       "        text-align: right;\n",
       "    }\n",
       "</style>\n",
       "<table border=\"1\" class=\"dataframe\">\n",
       "  <thead>\n",
       "    <tr style=\"text-align: right;\">\n",
       "      <th></th>\n",
       "      <th>Unnamed: 0</th>\n",
       "      <th>index</th>\n",
       "      <th>product_rk</th>\n",
       "      <th>store_location_rk</th>\n",
       "      <th>date</th>\n",
       "      <th>demand</th>\n",
       "      <th>PRODUCT_RK</th>\n",
       "      <th>STORE_LOCATION_RK</th>\n",
       "      <th>PROMO1_FLAG</th>\n",
       "      <th>PROMO2_FLAG</th>\n",
       "      <th>PRICE_REGULAR</th>\n",
       "      <th>PRICE_AFTER_DISC</th>\n",
       "      <th>NUM_CONSULTANT</th>\n",
       "      <th>AUTORIZATION_FLAG</th>\n",
       "    </tr>\n",
       "  </thead>\n",
       "  <tbody>\n",
       "    <tr>\n",
       "      <th>0</th>\n",
       "      <td>43</td>\n",
       "      <td>43</td>\n",
       "      <td>19540</td>\n",
       "      <td>309</td>\n",
       "      <td>2016-12-26</td>\n",
       "      <td>1.000000</td>\n",
       "      <td>19540</td>\n",
       "      <td>NaN</td>\n",
       "      <td>NaN</td>\n",
       "      <td>NaN</td>\n",
       "      <td>NaN</td>\n",
       "      <td>NaN</td>\n",
       "      <td>NaN</td>\n",
       "      <td>NaN</td>\n",
       "    </tr>\n",
       "    <tr>\n",
       "      <th>1</th>\n",
       "      <td>44</td>\n",
       "      <td>44</td>\n",
       "      <td>19540</td>\n",
       "      <td>355</td>\n",
       "      <td>2016-12-19</td>\n",
       "      <td>1.000000</td>\n",
       "      <td>19540</td>\n",
       "      <td>NaN</td>\n",
       "      <td>NaN</td>\n",
       "      <td>NaN</td>\n",
       "      <td>NaN</td>\n",
       "      <td>NaN</td>\n",
       "      <td>NaN</td>\n",
       "      <td>NaN</td>\n",
       "    </tr>\n",
       "    <tr>\n",
       "      <th>2</th>\n",
       "      <td>45</td>\n",
       "      <td>45</td>\n",
       "      <td>19540</td>\n",
       "      <td>355</td>\n",
       "      <td>2017-01-02</td>\n",
       "      <td>0.027027</td>\n",
       "      <td>19540</td>\n",
       "      <td>355.0</td>\n",
       "      <td>1.0</td>\n",
       "      <td>0.0</td>\n",
       "      <td>2849.000000</td>\n",
       "      <td>1709.40</td>\n",
       "      <td>0.0</td>\n",
       "      <td>1.0</td>\n",
       "    </tr>\n",
       "    <tr>\n",
       "      <th>3</th>\n",
       "      <td>46</td>\n",
       "      <td>46</td>\n",
       "      <td>19540</td>\n",
       "      <td>355</td>\n",
       "      <td>2017-03-27</td>\n",
       "      <td>1.000000</td>\n",
       "      <td>19540</td>\n",
       "      <td>355.0</td>\n",
       "      <td>0.0</td>\n",
       "      <td>0.0</td>\n",
       "      <td>2856.142857</td>\n",
       "      <td>1782.02</td>\n",
       "      <td>0.0</td>\n",
       "      <td>1.0</td>\n",
       "    </tr>\n",
       "    <tr>\n",
       "      <th>4</th>\n",
       "      <td>47</td>\n",
       "      <td>47</td>\n",
       "      <td>19540</td>\n",
       "      <td>355</td>\n",
       "      <td>2018-01-01</td>\n",
       "      <td>0.002740</td>\n",
       "      <td>19540</td>\n",
       "      <td>355.0</td>\n",
       "      <td>1.0</td>\n",
       "      <td>0.0</td>\n",
       "      <td>2899.000000</td>\n",
       "      <td>2217.74</td>\n",
       "      <td>0.0</td>\n",
       "      <td>1.0</td>\n",
       "    </tr>\n",
       "    <tr>\n",
       "      <th>...</th>\n",
       "      <td>...</td>\n",
       "      <td>...</td>\n",
       "      <td>...</td>\n",
       "      <td>...</td>\n",
       "      <td>...</td>\n",
       "      <td>...</td>\n",
       "      <td>...</td>\n",
       "      <td>...</td>\n",
       "      <td>...</td>\n",
       "      <td>...</td>\n",
       "      <td>...</td>\n",
       "      <td>...</td>\n",
       "      <td>...</td>\n",
       "      <td>...</td>\n",
       "    </tr>\n",
       "    <tr>\n",
       "      <th>193901</th>\n",
       "      <td>209593</td>\n",
       "      <td>209593</td>\n",
       "      <td>98432</td>\n",
       "      <td>1316</td>\n",
       "      <td>2019-11-25</td>\n",
       "      <td>NaN</td>\n",
       "      <td>98432</td>\n",
       "      <td>1316.0</td>\n",
       "      <td>1.0</td>\n",
       "      <td>0.0</td>\n",
       "      <td>2049.000000</td>\n",
       "      <td>1024.50</td>\n",
       "      <td>0.0</td>\n",
       "      <td>1.0</td>\n",
       "    </tr>\n",
       "    <tr>\n",
       "      <th>193902</th>\n",
       "      <td>209594</td>\n",
       "      <td>209594</td>\n",
       "      <td>98445</td>\n",
       "      <td>1316</td>\n",
       "      <td>2019-11-25</td>\n",
       "      <td>NaN</td>\n",
       "      <td>98445</td>\n",
       "      <td>1316.0</td>\n",
       "      <td>1.0</td>\n",
       "      <td>0.0</td>\n",
       "      <td>3299.000000</td>\n",
       "      <td>989.70</td>\n",
       "      <td>0.0</td>\n",
       "      <td>1.0</td>\n",
       "    </tr>\n",
       "    <tr>\n",
       "      <th>193903</th>\n",
       "      <td>209595</td>\n",
       "      <td>209595</td>\n",
       "      <td>98470</td>\n",
       "      <td>1316</td>\n",
       "      <td>2019-11-25</td>\n",
       "      <td>NaN</td>\n",
       "      <td>98470</td>\n",
       "      <td>1316.0</td>\n",
       "      <td>1.0</td>\n",
       "      <td>0.0</td>\n",
       "      <td>3049.000000</td>\n",
       "      <td>914.70</td>\n",
       "      <td>0.0</td>\n",
       "      <td>1.0</td>\n",
       "    </tr>\n",
       "    <tr>\n",
       "      <th>193904</th>\n",
       "      <td>209596</td>\n",
       "      <td>209596</td>\n",
       "      <td>98475</td>\n",
       "      <td>1316</td>\n",
       "      <td>2019-11-25</td>\n",
       "      <td>NaN</td>\n",
       "      <td>98475</td>\n",
       "      <td>1316.0</td>\n",
       "      <td>1.0</td>\n",
       "      <td>0.0</td>\n",
       "      <td>3049.000000</td>\n",
       "      <td>914.70</td>\n",
       "      <td>0.0</td>\n",
       "      <td>1.0</td>\n",
       "    </tr>\n",
       "    <tr>\n",
       "      <th>193905</th>\n",
       "      <td>209597</td>\n",
       "      <td>209597</td>\n",
       "      <td>98526</td>\n",
       "      <td>1316</td>\n",
       "      <td>2019-11-25</td>\n",
       "      <td>NaN</td>\n",
       "      <td>98526</td>\n",
       "      <td>1316.0</td>\n",
       "      <td>1.0</td>\n",
       "      <td>0.0</td>\n",
       "      <td>2699.000000</td>\n",
       "      <td>809.70</td>\n",
       "      <td>0.0</td>\n",
       "      <td>1.0</td>\n",
       "    </tr>\n",
       "  </tbody>\n",
       "</table>\n",
       "<p>193906 rows × 14 columns</p>\n",
       "</div>"
      ],
      "text/plain": [
       "        Unnamed: 0   index  product_rk  store_location_rk        date  \\\n",
       "0               43      43       19540                309  2016-12-26   \n",
       "1               44      44       19540                355  2016-12-19   \n",
       "2               45      45       19540                355  2017-01-02   \n",
       "3               46      46       19540                355  2017-03-27   \n",
       "4               47      47       19540                355  2018-01-01   \n",
       "...            ...     ...         ...                ...         ...   \n",
       "193901      209593  209593       98432               1316  2019-11-25   \n",
       "193902      209594  209594       98445               1316  2019-11-25   \n",
       "193903      209595  209595       98470               1316  2019-11-25   \n",
       "193904      209596  209596       98475               1316  2019-11-25   \n",
       "193905      209597  209597       98526               1316  2019-11-25   \n",
       "\n",
       "          demand  PRODUCT_RK  STORE_LOCATION_RK  PROMO1_FLAG  PROMO2_FLAG  \\\n",
       "0       1.000000       19540                NaN          NaN          NaN   \n",
       "1       1.000000       19540                NaN          NaN          NaN   \n",
       "2       0.027027       19540              355.0          1.0          0.0   \n",
       "3       1.000000       19540              355.0          0.0          0.0   \n",
       "4       0.002740       19540              355.0          1.0          0.0   \n",
       "...          ...         ...                ...          ...          ...   \n",
       "193901       NaN       98432             1316.0          1.0          0.0   \n",
       "193902       NaN       98445             1316.0          1.0          0.0   \n",
       "193903       NaN       98470             1316.0          1.0          0.0   \n",
       "193904       NaN       98475             1316.0          1.0          0.0   \n",
       "193905       NaN       98526             1316.0          1.0          0.0   \n",
       "\n",
       "        PRICE_REGULAR  PRICE_AFTER_DISC  NUM_CONSULTANT  AUTORIZATION_FLAG  \n",
       "0                 NaN               NaN             NaN                NaN  \n",
       "1                 NaN               NaN             NaN                NaN  \n",
       "2         2849.000000           1709.40             0.0                1.0  \n",
       "3         2856.142857           1782.02             0.0                1.0  \n",
       "4         2899.000000           2217.74             0.0                1.0  \n",
       "...               ...               ...             ...                ...  \n",
       "193901    2049.000000           1024.50             0.0                1.0  \n",
       "193902    3299.000000            989.70             0.0                1.0  \n",
       "193903    3049.000000            914.70             0.0                1.0  \n",
       "193904    3049.000000            914.70             0.0                1.0  \n",
       "193905    2699.000000            809.70             0.0                1.0  \n",
       "\n",
       "[193906 rows x 14 columns]"
      ]
     },
     "execution_count": 2,
     "metadata": {},
     "output_type": "execute_result"
    }
   ],
   "source": [
    "df_train = pd.read_csv(\"train_npf2.csv\", delimiter=\",\", encoding=\"cp1251\")\n",
    "df_train"
   ]
  },
  {
   "cell_type": "code",
   "execution_count": 3,
   "metadata": {
    "execution": {
     "iopub.execute_input": "2021-06-03T23:02:59.799563Z",
     "iopub.status.busy": "2021-06-03T23:02:59.799031Z",
     "iopub.status.idle": "2021-06-03T23:02:59.817014Z",
     "shell.execute_reply": "2021-06-03T23:02:59.816345Z",
     "shell.execute_reply.started": "2021-05-20T22:19:51.334346Z"
    },
    "papermill": {
     "duration": 0.063783,
     "end_time": "2021-06-03T23:02:59.817148",
     "exception": false,
     "start_time": "2021-06-03T23:02:59.753365",
     "status": "completed"
    },
    "tags": []
   },
   "outputs": [],
   "source": [
    "sample_sub = pd.read_csv(\"sample_npf2.csv\", delimiter=\",\", index_col=None)"
   ]
  },
  {
   "cell_type": "code",
   "execution_count": 4,
   "id": "ruled-characterization",
   "metadata": {
    "execution": {
     "iopub.execute_input": "2021-06-03T23:02:40.630337Z",
     "iopub.status.busy": "2021-06-03T23:02:40.629774Z",
     "iopub.status.idle": "2021-06-03T23:02:40.950834Z",
     "shell.execute_reply": "2021-06-03T23:02:40.950326Z",
     "shell.execute_reply.started": "2021-05-20T22:19:36.418264Z"
    },
    "papermill": {
     "duration": 0.364778,
     "end_time": "2021-06-03T23:02:40.950974",
     "exception": false,
     "start_time": "2021-06-03T23:02:40.586196",
     "status": "completed"
    },
    "tags": []
   },
   "outputs": [],
   "source": [
    "df_test = df_train[df_train['index'].isin(sample_sub['index'])]\n",
    "df_train = df_train[~df_train['index'].isin(sample_sub['index'])]\n",
    "\n",
    "df_test = df_test.drop(columns='demand')"
   ]
  },
  {
   "cell_type": "code",
   "execution_count": 5,
   "id": "unique-federal",
   "metadata": {
    "execution": {
     "iopub.execute_input": "2021-06-03T23:02:51.181918Z",
     "iopub.status.busy": "2021-06-03T23:02:51.181242Z",
     "iopub.status.idle": "2021-06-03T23:02:51.345581Z",
     "shell.execute_reply": "2021-06-03T23:02:51.345030Z",
     "shell.execute_reply.started": "2021-05-20T22:19:45.159571Z"
    },
    "papermill": {
     "duration": 0.397035,
     "end_time": "2021-06-03T23:02:51.345727",
     "exception": false,
     "start_time": "2021-06-03T23:02:50.948692",
     "status": "completed"
    },
    "tags": []
   },
   "outputs": [],
   "source": [
    "df_train = df_train.rename(columns={'date': 'period_dt', 'PRODUCT_RK': 'PRODUCT_ID', 'STORE_LOCATION_RK': 'STORE_LOCATION_ID'})\n",
    "df_test = df_test.rename(columns={'date': 'period_dt', 'PRODUCT_RK': 'PRODUCT_ID', 'STORE_LOCATION_RK': 'STORE_LOCATION_ID'})"
   ]
  },
  {
   "cell_type": "code",
   "execution_count": 6,
   "metadata": {},
   "outputs": [
    {
     "data": {
      "text/html": [
       "<div>\n",
       "<style scoped>\n",
       "    .dataframe tbody tr th:only-of-type {\n",
       "        vertical-align: middle;\n",
       "    }\n",
       "\n",
       "    .dataframe tbody tr th {\n",
       "        vertical-align: top;\n",
       "    }\n",
       "\n",
       "    .dataframe thead th {\n",
       "        text-align: right;\n",
       "    }\n",
       "</style>\n",
       "<table border=\"1\" class=\"dataframe\">\n",
       "  <thead>\n",
       "    <tr style=\"text-align: right;\">\n",
       "      <th></th>\n",
       "      <th>Unnamed: 0</th>\n",
       "      <th>index</th>\n",
       "      <th>product_rk</th>\n",
       "      <th>store_location_rk</th>\n",
       "      <th>period_dt</th>\n",
       "      <th>demand</th>\n",
       "      <th>PRODUCT_ID</th>\n",
       "      <th>STORE_LOCATION_ID</th>\n",
       "      <th>PROMO1_FLAG</th>\n",
       "      <th>PROMO2_FLAG</th>\n",
       "      <th>PRICE_REGULAR</th>\n",
       "      <th>PRICE_AFTER_DISC</th>\n",
       "      <th>NUM_CONSULTANT</th>\n",
       "      <th>AUTORIZATION_FLAG</th>\n",
       "    </tr>\n",
       "  </thead>\n",
       "  <tbody>\n",
       "    <tr>\n",
       "      <th>0</th>\n",
       "      <td>43</td>\n",
       "      <td>43</td>\n",
       "      <td>19540</td>\n",
       "      <td>309</td>\n",
       "      <td>2016-12-26</td>\n",
       "      <td>1.000000</td>\n",
       "      <td>19540</td>\n",
       "      <td>NaN</td>\n",
       "      <td>NaN</td>\n",
       "      <td>NaN</td>\n",
       "      <td>NaN</td>\n",
       "      <td>NaN</td>\n",
       "      <td>NaN</td>\n",
       "      <td>NaN</td>\n",
       "    </tr>\n",
       "    <tr>\n",
       "      <th>1</th>\n",
       "      <td>44</td>\n",
       "      <td>44</td>\n",
       "      <td>19540</td>\n",
       "      <td>355</td>\n",
       "      <td>2016-12-19</td>\n",
       "      <td>1.000000</td>\n",
       "      <td>19540</td>\n",
       "      <td>NaN</td>\n",
       "      <td>NaN</td>\n",
       "      <td>NaN</td>\n",
       "      <td>NaN</td>\n",
       "      <td>NaN</td>\n",
       "      <td>NaN</td>\n",
       "      <td>NaN</td>\n",
       "    </tr>\n",
       "    <tr>\n",
       "      <th>2</th>\n",
       "      <td>45</td>\n",
       "      <td>45</td>\n",
       "      <td>19540</td>\n",
       "      <td>355</td>\n",
       "      <td>2017-01-02</td>\n",
       "      <td>0.027027</td>\n",
       "      <td>19540</td>\n",
       "      <td>355.0</td>\n",
       "      <td>1.0</td>\n",
       "      <td>0.0</td>\n",
       "      <td>2849.000000</td>\n",
       "      <td>1709.40</td>\n",
       "      <td>0.0</td>\n",
       "      <td>1.0</td>\n",
       "    </tr>\n",
       "    <tr>\n",
       "      <th>3</th>\n",
       "      <td>46</td>\n",
       "      <td>46</td>\n",
       "      <td>19540</td>\n",
       "      <td>355</td>\n",
       "      <td>2017-03-27</td>\n",
       "      <td>1.000000</td>\n",
       "      <td>19540</td>\n",
       "      <td>355.0</td>\n",
       "      <td>0.0</td>\n",
       "      <td>0.0</td>\n",
       "      <td>2856.142857</td>\n",
       "      <td>1782.02</td>\n",
       "      <td>0.0</td>\n",
       "      <td>1.0</td>\n",
       "    </tr>\n",
       "    <tr>\n",
       "      <th>4</th>\n",
       "      <td>47</td>\n",
       "      <td>47</td>\n",
       "      <td>19540</td>\n",
       "      <td>355</td>\n",
       "      <td>2018-01-01</td>\n",
       "      <td>0.002740</td>\n",
       "      <td>19540</td>\n",
       "      <td>355.0</td>\n",
       "      <td>1.0</td>\n",
       "      <td>0.0</td>\n",
       "      <td>2899.000000</td>\n",
       "      <td>2217.74</td>\n",
       "      <td>0.0</td>\n",
       "      <td>1.0</td>\n",
       "    </tr>\n",
       "  </tbody>\n",
       "</table>\n",
       "</div>"
      ],
      "text/plain": [
       "   Unnamed: 0  index  product_rk  store_location_rk   period_dt    demand  \\\n",
       "0          43     43       19540                309  2016-12-26  1.000000   \n",
       "1          44     44       19540                355  2016-12-19  1.000000   \n",
       "2          45     45       19540                355  2017-01-02  0.027027   \n",
       "3          46     46       19540                355  2017-03-27  1.000000   \n",
       "4          47     47       19540                355  2018-01-01  0.002740   \n",
       "\n",
       "   PRODUCT_ID  STORE_LOCATION_ID  PROMO1_FLAG  PROMO2_FLAG  PRICE_REGULAR  \\\n",
       "0       19540                NaN          NaN          NaN            NaN   \n",
       "1       19540                NaN          NaN          NaN            NaN   \n",
       "2       19540              355.0          1.0          0.0    2849.000000   \n",
       "3       19540              355.0          0.0          0.0    2856.142857   \n",
       "4       19540              355.0          1.0          0.0    2899.000000   \n",
       "\n",
       "   PRICE_AFTER_DISC  NUM_CONSULTANT  AUTORIZATION_FLAG  \n",
       "0               NaN             NaN                NaN  \n",
       "1               NaN             NaN                NaN  \n",
       "2           1709.40             0.0                1.0  \n",
       "3           1782.02             0.0                1.0  \n",
       "4           2217.74             0.0                1.0  "
      ]
     },
     "execution_count": 6,
     "metadata": {},
     "output_type": "execute_result"
    }
   ],
   "source": [
    "df_train.head()"
   ]
  },
  {
   "cell_type": "code",
   "execution_count": 7,
   "metadata": {},
   "outputs": [
    {
     "data": {
      "text/html": [
       "<div>\n",
       "<style scoped>\n",
       "    .dataframe tbody tr th:only-of-type {\n",
       "        vertical-align: middle;\n",
       "    }\n",
       "\n",
       "    .dataframe tbody tr th {\n",
       "        vertical-align: top;\n",
       "    }\n",
       "\n",
       "    .dataframe thead th {\n",
       "        text-align: right;\n",
       "    }\n",
       "</style>\n",
       "<table border=\"1\" class=\"dataframe\">\n",
       "  <thead>\n",
       "    <tr style=\"text-align: right;\">\n",
       "      <th></th>\n",
       "      <th>Unnamed: 0</th>\n",
       "      <th>index</th>\n",
       "      <th>product_rk</th>\n",
       "      <th>store_location_rk</th>\n",
       "      <th>period_dt</th>\n",
       "      <th>PRODUCT_ID</th>\n",
       "      <th>STORE_LOCATION_ID</th>\n",
       "      <th>PROMO1_FLAG</th>\n",
       "      <th>PROMO2_FLAG</th>\n",
       "      <th>PRICE_REGULAR</th>\n",
       "      <th>PRICE_AFTER_DISC</th>\n",
       "      <th>NUM_CONSULTANT</th>\n",
       "      <th>AUTORIZATION_FLAG</th>\n",
       "    </tr>\n",
       "  </thead>\n",
       "  <tbody>\n",
       "    <tr>\n",
       "      <th>817</th>\n",
       "      <td>902</td>\n",
       "      <td>902</td>\n",
       "      <td>19544</td>\n",
       "      <td>1363</td>\n",
       "      <td>2019-11-04</td>\n",
       "      <td>19544</td>\n",
       "      <td>1363.0</td>\n",
       "      <td>1.0</td>\n",
       "      <td>0.0</td>\n",
       "      <td>2999.0</td>\n",
       "      <td>899.700000</td>\n",
       "      <td>0.0</td>\n",
       "      <td>1.0</td>\n",
       "    </tr>\n",
       "    <tr>\n",
       "      <th>1039</th>\n",
       "      <td>1163</td>\n",
       "      <td>1163</td>\n",
       "      <td>19545</td>\n",
       "      <td>1380</td>\n",
       "      <td>2019-11-04</td>\n",
       "      <td>19545</td>\n",
       "      <td>1380.0</td>\n",
       "      <td>1.0</td>\n",
       "      <td>0.0</td>\n",
       "      <td>2999.0</td>\n",
       "      <td>2142.142857</td>\n",
       "      <td>0.0</td>\n",
       "      <td>1.0</td>\n",
       "    </tr>\n",
       "    <tr>\n",
       "      <th>1043</th>\n",
       "      <td>1167</td>\n",
       "      <td>1167</td>\n",
       "      <td>19545</td>\n",
       "      <td>1380</td>\n",
       "      <td>2019-11-18</td>\n",
       "      <td>19545</td>\n",
       "      <td>1380.0</td>\n",
       "      <td>1.0</td>\n",
       "      <td>0.0</td>\n",
       "      <td>2999.0</td>\n",
       "      <td>1499.500000</td>\n",
       "      <td>0.0</td>\n",
       "      <td>1.0</td>\n",
       "    </tr>\n",
       "    <tr>\n",
       "      <th>1048</th>\n",
       "      <td>1172</td>\n",
       "      <td>1172</td>\n",
       "      <td>19545</td>\n",
       "      <td>1380</td>\n",
       "      <td>2019-11-25</td>\n",
       "      <td>19545</td>\n",
       "      <td>1380.0</td>\n",
       "      <td>1.0</td>\n",
       "      <td>0.0</td>\n",
       "      <td>2999.0</td>\n",
       "      <td>1499.500000</td>\n",
       "      <td>0.0</td>\n",
       "      <td>1.0</td>\n",
       "    </tr>\n",
       "    <tr>\n",
       "      <th>1065</th>\n",
       "      <td>1202</td>\n",
       "      <td>1202</td>\n",
       "      <td>135955</td>\n",
       "      <td>1326</td>\n",
       "      <td>2019-11-04</td>\n",
       "      <td>135955</td>\n",
       "      <td>1326.0</td>\n",
       "      <td>1.0</td>\n",
       "      <td>0.0</td>\n",
       "      <td>2999.0</td>\n",
       "      <td>1499.500000</td>\n",
       "      <td>4.0</td>\n",
       "      <td>1.0</td>\n",
       "    </tr>\n",
       "  </tbody>\n",
       "</table>\n",
       "</div>"
      ],
      "text/plain": [
       "      Unnamed: 0  index  product_rk  store_location_rk   period_dt  \\\n",
       "817          902    902       19544               1363  2019-11-04   \n",
       "1039        1163   1163       19545               1380  2019-11-04   \n",
       "1043        1167   1167       19545               1380  2019-11-18   \n",
       "1048        1172   1172       19545               1380  2019-11-25   \n",
       "1065        1202   1202      135955               1326  2019-11-04   \n",
       "\n",
       "      PRODUCT_ID  STORE_LOCATION_ID  PROMO1_FLAG  PROMO2_FLAG  PRICE_REGULAR  \\\n",
       "817        19544             1363.0          1.0          0.0         2999.0   \n",
       "1039       19545             1380.0          1.0          0.0         2999.0   \n",
       "1043       19545             1380.0          1.0          0.0         2999.0   \n",
       "1048       19545             1380.0          1.0          0.0         2999.0   \n",
       "1065      135955             1326.0          1.0          0.0         2999.0   \n",
       "\n",
       "      PRICE_AFTER_DISC  NUM_CONSULTANT  AUTORIZATION_FLAG  \n",
       "817         899.700000             0.0                1.0  \n",
       "1039       2142.142857             0.0                1.0  \n",
       "1043       1499.500000             0.0                1.0  \n",
       "1048       1499.500000             0.0                1.0  \n",
       "1065       1499.500000             4.0                1.0  "
      ]
     },
     "execution_count": 7,
     "metadata": {},
     "output_type": "execute_result"
    }
   ],
   "source": [
    "df_test.head()"
   ]
  },
  {
   "cell_type": "markdown",
   "id": "italian-groove",
   "metadata": {
    "papermill": {
     "duration": 0.040645,
     "end_time": "2021-06-03T23:02:51.427310",
     "exception": false,
     "start_time": "2021-06-03T23:02:51.386665",
     "status": "completed"
    },
    "tags": []
   },
   "source": [
    "# Data analysis:"
   ]
  },
  {
   "cell_type": "code",
   "execution_count": 8,
   "id": "lonely-february",
   "metadata": {
    "execution": {
     "iopub.execute_input": "2021-06-03T23:02:51.516678Z",
     "iopub.status.busy": "2021-06-03T23:02:51.515075Z",
     "iopub.status.idle": "2021-06-03T23:02:51.660425Z",
     "shell.execute_reply": "2021-06-03T23:02:51.659994Z"
    },
    "papermill": {
     "duration": 0.192609,
     "end_time": "2021-06-03T23:02:51.660567",
     "exception": false,
     "start_time": "2021-06-03T23:02:51.467958",
     "status": "completed"
    },
    "tags": []
   },
   "outputs": [
    {
     "data": {
      "text/html": [
       "<div>\n",
       "<style scoped>\n",
       "    .dataframe tbody tr th:only-of-type {\n",
       "        vertical-align: middle;\n",
       "    }\n",
       "\n",
       "    .dataframe tbody tr th {\n",
       "        vertical-align: top;\n",
       "    }\n",
       "\n",
       "    .dataframe thead th {\n",
       "        text-align: right;\n",
       "    }\n",
       "</style>\n",
       "<table border=\"1\" class=\"dataframe\">\n",
       "  <thead>\n",
       "    <tr style=\"text-align: right;\">\n",
       "      <th></th>\n",
       "      <th>Unique</th>\n",
       "      <th>Percentage of unique</th>\n",
       "      <th>NaNs</th>\n",
       "      <th>Percentage of NaNs</th>\n",
       "      <th>Null values</th>\n",
       "      <th>Percentage of nulls</th>\n",
       "    </tr>\n",
       "  </thead>\n",
       "  <tbody>\n",
       "    <tr>\n",
       "      <th>Unnamed: 0</th>\n",
       "      <td>193378.0</td>\n",
       "      <td>100.000000</td>\n",
       "      <td>0.0</td>\n",
       "      <td>0.000000</td>\n",
       "      <td>0.0</td>\n",
       "      <td>0.000000</td>\n",
       "    </tr>\n",
       "    <tr>\n",
       "      <th>index</th>\n",
       "      <td>193378.0</td>\n",
       "      <td>100.000000</td>\n",
       "      <td>0.0</td>\n",
       "      <td>0.000000</td>\n",
       "      <td>0.0</td>\n",
       "      <td>0.000000</td>\n",
       "    </tr>\n",
       "    <tr>\n",
       "      <th>product_rk</th>\n",
       "      <td>894.0</td>\n",
       "      <td>0.462307</td>\n",
       "      <td>0.0</td>\n",
       "      <td>0.000000</td>\n",
       "      <td>0.0</td>\n",
       "      <td>0.000000</td>\n",
       "    </tr>\n",
       "    <tr>\n",
       "      <th>store_location_rk</th>\n",
       "      <td>41.0</td>\n",
       "      <td>0.021202</td>\n",
       "      <td>0.0</td>\n",
       "      <td>0.000000</td>\n",
       "      <td>0.0</td>\n",
       "      <td>0.000000</td>\n",
       "    </tr>\n",
       "    <tr>\n",
       "      <th>period_dt</th>\n",
       "      <td>151.0</td>\n",
       "      <td>0.078085</td>\n",
       "      <td>0.0</td>\n",
       "      <td>0.000000</td>\n",
       "      <td>0.0</td>\n",
       "      <td>0.000000</td>\n",
       "    </tr>\n",
       "    <tr>\n",
       "      <th>demand</th>\n",
       "      <td>17306.0</td>\n",
       "      <td>8.949312</td>\n",
       "      <td>6105.0</td>\n",
       "      <td>3.157029</td>\n",
       "      <td>2238.0</td>\n",
       "      <td>1.157319</td>\n",
       "    </tr>\n",
       "    <tr>\n",
       "      <th>PRODUCT_ID</th>\n",
       "      <td>894.0</td>\n",
       "      <td>0.462307</td>\n",
       "      <td>0.0</td>\n",
       "      <td>0.000000</td>\n",
       "      <td>0.0</td>\n",
       "      <td>0.000000</td>\n",
       "    </tr>\n",
       "    <tr>\n",
       "      <th>STORE_LOCATION_ID</th>\n",
       "      <td>40.0</td>\n",
       "      <td>0.020685</td>\n",
       "      <td>1665.0</td>\n",
       "      <td>0.861008</td>\n",
       "      <td>0.0</td>\n",
       "      <td>0.000000</td>\n",
       "    </tr>\n",
       "    <tr>\n",
       "      <th>PROMO1_FLAG</th>\n",
       "      <td>3.0</td>\n",
       "      <td>0.001551</td>\n",
       "      <td>1665.0</td>\n",
       "      <td>0.861008</td>\n",
       "      <td>81324.0</td>\n",
       "      <td>42.054422</td>\n",
       "    </tr>\n",
       "    <tr>\n",
       "      <th>PROMO2_FLAG</th>\n",
       "      <td>2.0</td>\n",
       "      <td>0.001034</td>\n",
       "      <td>1665.0</td>\n",
       "      <td>0.861008</td>\n",
       "      <td>190954.0</td>\n",
       "      <td>98.746496</td>\n",
       "    </tr>\n",
       "    <tr>\n",
       "      <th>PRICE_REGULAR</th>\n",
       "      <td>2009.0</td>\n",
       "      <td>1.038898</td>\n",
       "      <td>3708.0</td>\n",
       "      <td>1.917488</td>\n",
       "      <td>0.0</td>\n",
       "      <td>0.000000</td>\n",
       "    </tr>\n",
       "    <tr>\n",
       "      <th>PRICE_AFTER_DISC</th>\n",
       "      <td>12014.0</td>\n",
       "      <td>6.212703</td>\n",
       "      <td>5352.0</td>\n",
       "      <td>2.767636</td>\n",
       "      <td>0.0</td>\n",
       "      <td>0.000000</td>\n",
       "    </tr>\n",
       "    <tr>\n",
       "      <th>NUM_CONSULTANT</th>\n",
       "      <td>8.0</td>\n",
       "      <td>0.004137</td>\n",
       "      <td>1665.0</td>\n",
       "      <td>0.861008</td>\n",
       "      <td>167053.0</td>\n",
       "      <td>86.386766</td>\n",
       "    </tr>\n",
       "    <tr>\n",
       "      <th>AUTORIZATION_FLAG</th>\n",
       "      <td>2.0</td>\n",
       "      <td>0.001034</td>\n",
       "      <td>1665.0</td>\n",
       "      <td>0.861008</td>\n",
       "      <td>18095.0</td>\n",
       "      <td>9.357321</td>\n",
       "    </tr>\n",
       "  </tbody>\n",
       "</table>\n",
       "</div>"
      ],
      "text/plain": [
       "                     Unique  Percentage of unique    NaNs  Percentage of NaNs  \\\n",
       "Unnamed: 0         193378.0            100.000000     0.0            0.000000   \n",
       "index              193378.0            100.000000     0.0            0.000000   \n",
       "product_rk            894.0              0.462307     0.0            0.000000   \n",
       "store_location_rk      41.0              0.021202     0.0            0.000000   \n",
       "period_dt             151.0              0.078085     0.0            0.000000   \n",
       "demand              17306.0              8.949312  6105.0            3.157029   \n",
       "PRODUCT_ID            894.0              0.462307     0.0            0.000000   \n",
       "STORE_LOCATION_ID      40.0              0.020685  1665.0            0.861008   \n",
       "PROMO1_FLAG             3.0              0.001551  1665.0            0.861008   \n",
       "PROMO2_FLAG             2.0              0.001034  1665.0            0.861008   \n",
       "PRICE_REGULAR        2009.0              1.038898  3708.0            1.917488   \n",
       "PRICE_AFTER_DISC    12014.0              6.212703  5352.0            2.767636   \n",
       "NUM_CONSULTANT          8.0              0.004137  1665.0            0.861008   \n",
       "AUTORIZATION_FLAG       2.0              0.001034  1665.0            0.861008   \n",
       "\n",
       "                   Null values  Percentage of nulls  \n",
       "Unnamed: 0                 0.0             0.000000  \n",
       "index                      0.0             0.000000  \n",
       "product_rk                 0.0             0.000000  \n",
       "store_location_rk          0.0             0.000000  \n",
       "period_dt                  0.0             0.000000  \n",
       "demand                  2238.0             1.157319  \n",
       "PRODUCT_ID                 0.0             0.000000  \n",
       "STORE_LOCATION_ID          0.0             0.000000  \n",
       "PROMO1_FLAG            81324.0            42.054422  \n",
       "PROMO2_FLAG           190954.0            98.746496  \n",
       "PRICE_REGULAR              0.0             0.000000  \n",
       "PRICE_AFTER_DISC           0.0             0.000000  \n",
       "NUM_CONSULTANT        167053.0            86.386766  \n",
       "AUTORIZATION_FLAG      18095.0             9.357321  "
      ]
     },
     "execution_count": 8,
     "metadata": {},
     "output_type": "execute_result"
    }
   ],
   "source": [
    "df_agg = df_train.agg(\n",
    "    [\n",
    "        \"nunique\",\n",
    "        (lambda x: x.nunique() / len(x) * 100),\n",
    "        (lambda x: x.isna().sum()),\n",
    "        (lambda x: x.isna().sum() / len(x) * 100),\n",
    "        (lambda x: x.isin([0]).sum()),\n",
    "        (lambda x: x.isin([0]).sum() / len(x) * 100),\n",
    "    ]\n",
    ").transpose()\n",
    "\n",
    "df_agg.columns = [\n",
    "    \"Unique\",\n",
    "    \"Percentage of unique\",\n",
    "    \"NaNs\",\n",
    "    \"Percentage of NaNs\",\n",
    "    \"Null values\",\n",
    "    \"Percentage of nulls\",\n",
    "]\n",
    "df_agg"
   ]
  },
  {
   "cell_type": "code",
   "execution_count": 9,
   "metadata": {},
   "outputs": [
    {
     "data": {
      "text/html": [
       "<div>\n",
       "<style scoped>\n",
       "    .dataframe tbody tr th:only-of-type {\n",
       "        vertical-align: middle;\n",
       "    }\n",
       "\n",
       "    .dataframe tbody tr th {\n",
       "        vertical-align: top;\n",
       "    }\n",
       "\n",
       "    .dataframe thead th {\n",
       "        text-align: right;\n",
       "    }\n",
       "</style>\n",
       "<table border=\"1\" class=\"dataframe\">\n",
       "  <thead>\n",
       "    <tr style=\"text-align: right;\">\n",
       "      <th></th>\n",
       "      <th>Unique</th>\n",
       "      <th>Percentage of unique</th>\n",
       "      <th>NaNs</th>\n",
       "      <th>Percentage of NaNs</th>\n",
       "      <th>Null values</th>\n",
       "      <th>Percentage of nulls</th>\n",
       "    </tr>\n",
       "  </thead>\n",
       "  <tbody>\n",
       "    <tr>\n",
       "      <th>Unnamed: 0</th>\n",
       "      <td>528.0</td>\n",
       "      <td>100.000000</td>\n",
       "      <td>0.0</td>\n",
       "      <td>0.000000</td>\n",
       "      <td>0.0</td>\n",
       "      <td>0.000000</td>\n",
       "    </tr>\n",
       "    <tr>\n",
       "      <th>index</th>\n",
       "      <td>528.0</td>\n",
       "      <td>100.000000</td>\n",
       "      <td>0.0</td>\n",
       "      <td>0.000000</td>\n",
       "      <td>0.0</td>\n",
       "      <td>0.000000</td>\n",
       "    </tr>\n",
       "    <tr>\n",
       "      <th>product_rk</th>\n",
       "      <td>161.0</td>\n",
       "      <td>30.492424</td>\n",
       "      <td>0.0</td>\n",
       "      <td>0.000000</td>\n",
       "      <td>0.0</td>\n",
       "      <td>0.000000</td>\n",
       "    </tr>\n",
       "    <tr>\n",
       "      <th>store_location_rk</th>\n",
       "      <td>33.0</td>\n",
       "      <td>6.250000</td>\n",
       "      <td>0.0</td>\n",
       "      <td>0.000000</td>\n",
       "      <td>0.0</td>\n",
       "      <td>0.000000</td>\n",
       "    </tr>\n",
       "    <tr>\n",
       "      <th>period_dt</th>\n",
       "      <td>4.0</td>\n",
       "      <td>0.757576</td>\n",
       "      <td>0.0</td>\n",
       "      <td>0.000000</td>\n",
       "      <td>0.0</td>\n",
       "      <td>0.000000</td>\n",
       "    </tr>\n",
       "    <tr>\n",
       "      <th>PRODUCT_ID</th>\n",
       "      <td>161.0</td>\n",
       "      <td>30.492424</td>\n",
       "      <td>0.0</td>\n",
       "      <td>0.000000</td>\n",
       "      <td>0.0</td>\n",
       "      <td>0.000000</td>\n",
       "    </tr>\n",
       "    <tr>\n",
       "      <th>STORE_LOCATION_ID</th>\n",
       "      <td>33.0</td>\n",
       "      <td>6.250000</td>\n",
       "      <td>0.0</td>\n",
       "      <td>0.000000</td>\n",
       "      <td>0.0</td>\n",
       "      <td>0.000000</td>\n",
       "    </tr>\n",
       "    <tr>\n",
       "      <th>PROMO1_FLAG</th>\n",
       "      <td>1.0</td>\n",
       "      <td>0.189394</td>\n",
       "      <td>0.0</td>\n",
       "      <td>0.000000</td>\n",
       "      <td>0.0</td>\n",
       "      <td>0.000000</td>\n",
       "    </tr>\n",
       "    <tr>\n",
       "      <th>PROMO2_FLAG</th>\n",
       "      <td>2.0</td>\n",
       "      <td>0.378788</td>\n",
       "      <td>0.0</td>\n",
       "      <td>0.000000</td>\n",
       "      <td>485.0</td>\n",
       "      <td>91.856061</td>\n",
       "    </tr>\n",
       "    <tr>\n",
       "      <th>PRICE_REGULAR</th>\n",
       "      <td>44.0</td>\n",
       "      <td>8.333333</td>\n",
       "      <td>74.0</td>\n",
       "      <td>14.015152</td>\n",
       "      <td>0.0</td>\n",
       "      <td>0.000000</td>\n",
       "    </tr>\n",
       "    <tr>\n",
       "      <th>PRICE_AFTER_DISC</th>\n",
       "      <td>141.0</td>\n",
       "      <td>26.704545</td>\n",
       "      <td>74.0</td>\n",
       "      <td>14.015152</td>\n",
       "      <td>0.0</td>\n",
       "      <td>0.000000</td>\n",
       "    </tr>\n",
       "    <tr>\n",
       "      <th>NUM_CONSULTANT</th>\n",
       "      <td>4.0</td>\n",
       "      <td>0.757576</td>\n",
       "      <td>0.0</td>\n",
       "      <td>0.000000</td>\n",
       "      <td>470.0</td>\n",
       "      <td>89.015152</td>\n",
       "    </tr>\n",
       "    <tr>\n",
       "      <th>AUTORIZATION_FLAG</th>\n",
       "      <td>2.0</td>\n",
       "      <td>0.378788</td>\n",
       "      <td>0.0</td>\n",
       "      <td>0.000000</td>\n",
       "      <td>11.0</td>\n",
       "      <td>2.083333</td>\n",
       "    </tr>\n",
       "  </tbody>\n",
       "</table>\n",
       "</div>"
      ],
      "text/plain": [
       "                   Unique  Percentage of unique  NaNs  Percentage of NaNs  \\\n",
       "Unnamed: 0          528.0            100.000000   0.0            0.000000   \n",
       "index               528.0            100.000000   0.0            0.000000   \n",
       "product_rk          161.0             30.492424   0.0            0.000000   \n",
       "store_location_rk    33.0              6.250000   0.0            0.000000   \n",
       "period_dt             4.0              0.757576   0.0            0.000000   \n",
       "PRODUCT_ID          161.0             30.492424   0.0            0.000000   \n",
       "STORE_LOCATION_ID    33.0              6.250000   0.0            0.000000   \n",
       "PROMO1_FLAG           1.0              0.189394   0.0            0.000000   \n",
       "PROMO2_FLAG           2.0              0.378788   0.0            0.000000   \n",
       "PRICE_REGULAR        44.0              8.333333  74.0           14.015152   \n",
       "PRICE_AFTER_DISC    141.0             26.704545  74.0           14.015152   \n",
       "NUM_CONSULTANT        4.0              0.757576   0.0            0.000000   \n",
       "AUTORIZATION_FLAG     2.0              0.378788   0.0            0.000000   \n",
       "\n",
       "                   Null values  Percentage of nulls  \n",
       "Unnamed: 0                 0.0             0.000000  \n",
       "index                      0.0             0.000000  \n",
       "product_rk                 0.0             0.000000  \n",
       "store_location_rk          0.0             0.000000  \n",
       "period_dt                  0.0             0.000000  \n",
       "PRODUCT_ID                 0.0             0.000000  \n",
       "STORE_LOCATION_ID          0.0             0.000000  \n",
       "PROMO1_FLAG                0.0             0.000000  \n",
       "PROMO2_FLAG              485.0            91.856061  \n",
       "PRICE_REGULAR              0.0             0.000000  \n",
       "PRICE_AFTER_DISC           0.0             0.000000  \n",
       "NUM_CONSULTANT           470.0            89.015152  \n",
       "AUTORIZATION_FLAG         11.0             2.083333  "
      ]
     },
     "execution_count": 9,
     "metadata": {},
     "output_type": "execute_result"
    }
   ],
   "source": [
    "df_agg = df_test.agg(\n",
    "    [\n",
    "        \"nunique\",\n",
    "        (lambda x: x.nunique() / len(x) * 100),\n",
    "        (lambda x: x.isna().sum()),\n",
    "        (lambda x: x.isna().sum() / len(x) * 100),\n",
    "        (lambda x: x.isin([0]).sum()),\n",
    "        (lambda x: x.isin([0]).sum() / len(x) * 100),\n",
    "    ]\n",
    ").transpose()\n",
    "\n",
    "df_agg.columns = [\n",
    "    \"Unique\",\n",
    "    \"Percentage of unique\",\n",
    "    \"NaNs\",\n",
    "    \"Percentage of NaNs\",\n",
    "    \"Null values\",\n",
    "    \"Percentage of nulls\",\n",
    "]\n",
    "df_agg"
   ]
  },
  {
   "cell_type": "code",
   "execution_count": 10,
   "metadata": {},
   "outputs": [],
   "source": [
    "df_train = df_train.fillna({'demand': 0.5, 'STORE_LOCATION_ID': -1, 'NUM_CONSULTANT': 0, 'AUTORIZATION_FLAG': 0, 'PROMO1_FLAG': 0,\n",
    "                           'PROMO2_FLAG': 0, 'PRICE_REGULAR': 0, 'PRICE_AFTER_DISC': 0})\n",
    "df_test = df_test.fillna({'STORE_LOCATION_ID': -1, 'NUM_CONSULTANT': 0, 'AUTORIZATION_FLAG': 0, 'PROMO1_FLAG': 0,\n",
    "                           'PROMO2_FLAG': 0, 'PRICE_REGULAR': 0, 'PRICE_AFTER_DISC': 0})"
   ]
  },
  {
   "cell_type": "markdown",
   "id": "organizational-channel",
   "metadata": {
    "papermill": {
     "duration": 0.04197,
     "end_time": "2021-06-03T23:02:54.940150",
     "exception": false,
     "start_time": "2021-06-03T23:02:54.898180",
     "status": "completed"
    },
    "tags": []
   },
   "source": [
    "# Graphs"
   ]
  },
  {
   "cell_type": "code",
   "execution_count": 11,
   "id": "graduate-citation",
   "metadata": {
    "execution": {
     "iopub.execute_input": "2021-06-03T23:02:55.030697Z",
     "iopub.status.busy": "2021-06-03T23:02:55.029884Z",
     "iopub.status.idle": "2021-06-03T23:02:55.382035Z",
     "shell.execute_reply": "2021-06-03T23:02:55.381395Z",
     "shell.execute_reply.started": "2021-05-20T22:19:45.799353Z"
    },
    "papermill": {
     "duration": 0.399593,
     "end_time": "2021-06-03T23:02:55.382214",
     "exception": false,
     "start_time": "2021-06-03T23:02:54.982621",
     "status": "completed"
    },
    "tags": []
   },
   "outputs": [
    {
     "data": {
      "image/png": "[encoded data removed]",
      "text/plain": [
       "<Figure size 432x288 with 1 Axes>"
      ]
     },
     "metadata": {
      "needs_background": "light"
     },
     "output_type": "display_data"
    }
   ],
   "source": [
    "hist = plt.hist(np.log1p(df_train.demand.values), bins=100)\n",
    "plt.show()"
   ]
  },
  {
   "cell_type": "code",
   "execution_count": 12,
   "id": "compressed-compact",
   "metadata": {
    "execution": {
     "iopub.execute_input": "2021-06-03T23:02:55.488701Z",
     "iopub.status.busy": "2021-06-03T23:02:55.487685Z",
     "iopub.status.idle": "2021-06-03T23:02:57.844557Z",
     "shell.execute_reply": "2021-06-03T23:02:57.843864Z",
     "shell.execute_reply.started": "2021-05-20T22:19:46.212287Z"
    },
    "papermill": {
     "duration": 2.419862,
     "end_time": "2021-06-03T23:02:57.844730",
     "exception": false,
     "start_time": "2021-06-03T23:02:55.424868",
     "status": "completed"
    },
    "tags": []
   },
   "outputs": [
    {
     "data": {
      "image/png": "[encoded data removed]",
      "text/plain": [
       "<Figure size 432x288 with 1 Axes>"
      ]
     },
     "metadata": {
      "needs_background": "light"
     },
     "output_type": "display_data"
    }
   ],
   "source": [
    "hist = plt.hist((df_train.demand.values), bins=1000)\n",
    "plt.xscale('log')\n",
    "plt.show()"
   ]
  },
  {
   "cell_type": "code",
   "execution_count": 13,
   "id": "plain-yeast",
   "metadata": {
    "execution": {
     "iopub.execute_input": "2021-06-03T23:02:57.954748Z",
     "iopub.status.busy": "2021-06-03T23:02:57.953843Z",
     "iopub.status.idle": "2021-06-03T23:02:59.626459Z",
     "shell.execute_reply": "2021-06-03T23:02:59.626013Z",
     "shell.execute_reply.started": "2021-05-20T22:19:48.907193Z"
    },
    "papermill": {
     "duration": 1.73216,
     "end_time": "2021-06-03T23:02:59.626611",
     "exception": false,
     "start_time": "2021-06-03T23:02:57.894451",
     "status": "completed"
    },
    "tags": []
   },
   "outputs": [
    {
     "data": {
      "image/png": "[encoded data removed]",
      "text/plain": [
       "<Figure size 432x288 with 1 Axes>"
      ]
     },
     "metadata": {
      "needs_background": "light"
     },
     "output_type": "display_data"
    }
   ],
   "source": [
    "hist = plt.hist((df_train.demand.values), bins=1000)\n",
    "plt.xlim((0, 3))\n",
    "plt.show()"
   ]
  },
  {
   "cell_type": "markdown",
   "id": "nervous-combining",
   "metadata": {
    "papermill": {
     "duration": 0.041965,
     "end_time": "2021-06-03T23:02:59.711315",
     "exception": false,
     "start_time": "2021-06-03T23:02:59.669350",
     "status": "completed"
    },
    "tags": []
   },
   "source": [
    "# Get df for a submission"
   ]
  },
  {
   "cell_type": "code",
   "execution_count": 14,
   "id": "intermediate-assumption",
   "metadata": {
    "execution": {
     "iopub.execute_input": "2021-06-03T23:03:00.001638Z",
     "iopub.status.busy": "2021-06-03T23:03:00.001075Z",
     "iopub.status.idle": "2021-06-03T23:03:00.020299Z",
     "shell.execute_reply": "2021-06-03T23:03:00.019727Z",
     "shell.execute_reply.started": "2021-05-20T22:19:51.363013Z"
    },
    "papermill": {
     "duration": 0.065521,
     "end_time": "2021-06-03T23:03:00.020426",
     "exception": false,
     "start_time": "2021-06-03T23:02:59.954905",
     "status": "completed"
    },
    "tags": []
   },
   "outputs": [],
   "source": [
    "sub = sample_sub.copy()"
   ]
  },
  {
   "cell_type": "code",
   "execution_count": 15,
   "id": "precious-aircraft",
   "metadata": {
    "execution": {
     "iopub.execute_input": "2021-06-03T23:03:00.110153Z",
     "iopub.status.busy": "2021-06-03T23:03:00.109501Z",
     "iopub.status.idle": "2021-06-03T23:03:00.112152Z",
     "shell.execute_reply": "2021-06-03T23:03:00.111717Z",
     "shell.execute_reply.started": "2021-05-20T22:19:51.386172Z"
    },
    "papermill": {
     "duration": 0.049706,
     "end_time": "2021-06-03T23:03:00.112272",
     "exception": false,
     "start_time": "2021-06-03T23:03:00.062566",
     "status": "completed"
    },
    "tags": []
   },
   "outputs": [],
   "source": [
    "sub.demand = 0"
   ]
  },
  {
   "cell_type": "markdown",
   "id": "automated-youth",
   "metadata": {
    "papermill": {
     "duration": 0.044246,
     "end_time": "2021-06-03T23:03:00.293905",
     "exception": false,
     "start_time": "2021-06-03T23:03:00.249659",
     "status": "completed"
    },
    "tags": []
   },
   "source": [
    "# Data preprocesssing and model"
   ]
  },
  {
   "cell_type": "code",
   "execution_count": 16,
   "id": "fleet-canvas",
   "metadata": {
    "execution": {
     "iopub.execute_input": "2021-06-03T23:03:00.601355Z",
     "iopub.status.busy": "2021-06-03T23:03:00.600503Z",
     "iopub.status.idle": "2021-06-03T23:03:00.901657Z",
     "shell.execute_reply": "2021-06-03T23:03:00.901076Z",
     "shell.execute_reply.started": "2021-05-20T22:19:56.718579Z"
    },
    "papermill": {
     "duration": 0.360116,
     "end_time": "2021-06-03T23:03:00.901782",
     "exception": false,
     "start_time": "2021-06-03T23:03:00.541666",
     "status": "completed"
    },
    "tags": []
   },
   "outputs": [],
   "source": [
    "df_train.period_dt = pd.to_datetime(df_train.period_dt)\n",
    "df_train[\"day\"] = df_train.period_dt.dt.day\n",
    "df_train[\"weekday\"] = df_train.period_dt.dt.weekday\n",
    "df_train[\"year\"] = df_train.period_dt.dt.year\n",
    "df_train[\"month\"] = df_train.period_dt.dt.month\n",
    "df_train[\"dayofyear\"] = df_train.period_dt.dt.dayofyear"
   ]
  },
  {
   "cell_type": "code",
   "execution_count": 17,
   "id": "shaped-demographic",
   "metadata": {
    "execution": {
     "iopub.execute_input": "2021-06-03T23:03:00.994365Z",
     "iopub.status.busy": "2021-06-03T23:03:00.993805Z",
     "iopub.status.idle": "2021-06-03T23:03:01.009547Z",
     "shell.execute_reply": "2021-06-03T23:03:01.009098Z",
     "shell.execute_reply.started": "2021-05-20T22:19:57.322486Z"
    },
    "papermill": {
     "duration": 0.06471,
     "end_time": "2021-06-03T23:03:01.009687",
     "exception": false,
     "start_time": "2021-06-03T23:03:00.944977",
     "status": "completed"
    },
    "tags": []
   },
   "outputs": [],
   "source": [
    "df_test.period_dt = pd.to_datetime(df_test.period_dt)\n",
    "df_test[\"day\"] = df_test.period_dt.dt.day\n",
    "df_test[\"weekday\"] = df_test.period_dt.dt.weekday\n",
    "df_test[\"year\"] = df_test.period_dt.dt.year\n",
    "df_test[\"month\"] = df_test.period_dt.dt.month\n",
    "df_test[\"dayofyear\"] = df_test.period_dt.dt.dayofyear"
   ]
  },
  {
   "cell_type": "code",
   "execution_count": 18,
   "id": "floral-coach",
   "metadata": {
    "execution": {
     "iopub.execute_input": "2021-06-03T23:03:01.459906Z",
     "iopub.status.busy": "2021-06-03T23:03:01.459329Z",
     "iopub.status.idle": "2021-06-03T23:03:01.463145Z",
     "shell.execute_reply": "2021-06-03T23:03:01.462727Z",
     "shell.execute_reply.started": "2021-05-20T22:20:03.268102Z"
    },
    "papermill": {
     "duration": 0.050549,
     "end_time": "2021-06-03T23:03:01.463261",
     "exception": false,
     "start_time": "2021-06-03T23:03:01.412712",
     "status": "completed"
    },
    "tags": []
   },
   "outputs": [],
   "source": [
    "df_train[\"flag\"] = 0"
   ]
  },
  {
   "cell_type": "code",
   "execution_count": 19,
   "id": "nutritional-saskatchewan",
   "metadata": {
    "execution": {
     "iopub.execute_input": "2021-06-03T23:03:01.554814Z",
     "iopub.status.busy": "2021-06-03T23:03:01.554263Z",
     "iopub.status.idle": "2021-06-03T23:03:01.563310Z",
     "shell.execute_reply": "2021-06-03T23:03:01.562873Z",
     "shell.execute_reply.started": "2021-05-20T22:20:06.756718Z"
    },
    "papermill": {
     "duration": 0.057083,
     "end_time": "2021-06-03T23:03:01.563437",
     "exception": false,
     "start_time": "2021-06-03T23:03:01.506354",
     "status": "completed"
    },
    "tags": []
   },
   "outputs": [],
   "source": [
    "df_train_low = df_train[df_train[\"demand\"] <= 1]\n",
    "\n",
    "df_train.loc[df_train[\"demand\"] <= 5, \"flag\"] = 1"
   ]
  },
  {
   "cell_type": "code",
   "execution_count": 20,
   "metadata": {},
   "outputs": [
    {
     "data": {
      "text/html": [
       "<div>\n",
       "<style scoped>\n",
       "    .dataframe tbody tr th:only-of-type {\n",
       "        vertical-align: middle;\n",
       "    }\n",
       "\n",
       "    .dataframe tbody tr th {\n",
       "        vertical-align: top;\n",
       "    }\n",
       "\n",
       "    .dataframe thead th {\n",
       "        text-align: right;\n",
       "    }\n",
       "</style>\n",
       "<table border=\"1\" class=\"dataframe\">\n",
       "  <thead>\n",
       "    <tr style=\"text-align: right;\">\n",
       "      <th></th>\n",
       "      <th>Unnamed: 0</th>\n",
       "      <th>index</th>\n",
       "      <th>product_rk</th>\n",
       "      <th>store_location_rk</th>\n",
       "      <th>period_dt</th>\n",
       "      <th>demand</th>\n",
       "      <th>PRODUCT_ID</th>\n",
       "      <th>STORE_LOCATION_ID</th>\n",
       "      <th>PROMO1_FLAG</th>\n",
       "      <th>PROMO2_FLAG</th>\n",
       "      <th>PRICE_REGULAR</th>\n",
       "      <th>PRICE_AFTER_DISC</th>\n",
       "      <th>NUM_CONSULTANT</th>\n",
       "      <th>AUTORIZATION_FLAG</th>\n",
       "      <th>day</th>\n",
       "      <th>weekday</th>\n",
       "      <th>year</th>\n",
       "      <th>month</th>\n",
       "      <th>dayofyear</th>\n",
       "      <th>flag</th>\n",
       "    </tr>\n",
       "  </thead>\n",
       "  <tbody>\n",
       "    <tr>\n",
       "      <th>0</th>\n",
       "      <td>43</td>\n",
       "      <td>43</td>\n",
       "      <td>19540</td>\n",
       "      <td>309</td>\n",
       "      <td>2016-12-26</td>\n",
       "      <td>1.000000</td>\n",
       "      <td>19540</td>\n",
       "      <td>-1.0</td>\n",
       "      <td>0.0</td>\n",
       "      <td>0.0</td>\n",
       "      <td>0.000000</td>\n",
       "      <td>0.00</td>\n",
       "      <td>0.0</td>\n",
       "      <td>0.0</td>\n",
       "      <td>26</td>\n",
       "      <td>0</td>\n",
       "      <td>2016</td>\n",
       "      <td>12</td>\n",
       "      <td>361</td>\n",
       "      <td>0</td>\n",
       "    </tr>\n",
       "    <tr>\n",
       "      <th>1</th>\n",
       "      <td>44</td>\n",
       "      <td>44</td>\n",
       "      <td>19540</td>\n",
       "      <td>355</td>\n",
       "      <td>2016-12-19</td>\n",
       "      <td>1.000000</td>\n",
       "      <td>19540</td>\n",
       "      <td>-1.0</td>\n",
       "      <td>0.0</td>\n",
       "      <td>0.0</td>\n",
       "      <td>0.000000</td>\n",
       "      <td>0.00</td>\n",
       "      <td>0.0</td>\n",
       "      <td>0.0</td>\n",
       "      <td>19</td>\n",
       "      <td>0</td>\n",
       "      <td>2016</td>\n",
       "      <td>12</td>\n",
       "      <td>354</td>\n",
       "      <td>0</td>\n",
       "    </tr>\n",
       "    <tr>\n",
       "      <th>2</th>\n",
       "      <td>45</td>\n",
       "      <td>45</td>\n",
       "      <td>19540</td>\n",
       "      <td>355</td>\n",
       "      <td>2017-01-02</td>\n",
       "      <td>0.027027</td>\n",
       "      <td>19540</td>\n",
       "      <td>355.0</td>\n",
       "      <td>1.0</td>\n",
       "      <td>0.0</td>\n",
       "      <td>2849.000000</td>\n",
       "      <td>1709.40</td>\n",
       "      <td>0.0</td>\n",
       "      <td>1.0</td>\n",
       "      <td>2</td>\n",
       "      <td>0</td>\n",
       "      <td>2017</td>\n",
       "      <td>1</td>\n",
       "      <td>2</td>\n",
       "      <td>0</td>\n",
       "    </tr>\n",
       "    <tr>\n",
       "      <th>3</th>\n",
       "      <td>46</td>\n",
       "      <td>46</td>\n",
       "      <td>19540</td>\n",
       "      <td>355</td>\n",
       "      <td>2017-03-27</td>\n",
       "      <td>1.000000</td>\n",
       "      <td>19540</td>\n",
       "      <td>355.0</td>\n",
       "      <td>0.0</td>\n",
       "      <td>0.0</td>\n",
       "      <td>2856.142857</td>\n",
       "      <td>1782.02</td>\n",
       "      <td>0.0</td>\n",
       "      <td>1.0</td>\n",
       "      <td>27</td>\n",
       "      <td>0</td>\n",
       "      <td>2017</td>\n",
       "      <td>3</td>\n",
       "      <td>86</td>\n",
       "      <td>0</td>\n",
       "    </tr>\n",
       "    <tr>\n",
       "      <th>4</th>\n",
       "      <td>47</td>\n",
       "      <td>47</td>\n",
       "      <td>19540</td>\n",
       "      <td>355</td>\n",
       "      <td>2018-01-01</td>\n",
       "      <td>0.002740</td>\n",
       "      <td>19540</td>\n",
       "      <td>355.0</td>\n",
       "      <td>1.0</td>\n",
       "      <td>0.0</td>\n",
       "      <td>2899.000000</td>\n",
       "      <td>2217.74</td>\n",
       "      <td>0.0</td>\n",
       "      <td>1.0</td>\n",
       "      <td>1</td>\n",
       "      <td>0</td>\n",
       "      <td>2018</td>\n",
       "      <td>1</td>\n",
       "      <td>1</td>\n",
       "      <td>0</td>\n",
       "    </tr>\n",
       "    <tr>\n",
       "      <th>...</th>\n",
       "      <td>...</td>\n",
       "      <td>...</td>\n",
       "      <td>...</td>\n",
       "      <td>...</td>\n",
       "      <td>...</td>\n",
       "      <td>...</td>\n",
       "      <td>...</td>\n",
       "      <td>...</td>\n",
       "      <td>...</td>\n",
       "      <td>...</td>\n",
       "      <td>...</td>\n",
       "      <td>...</td>\n",
       "      <td>...</td>\n",
       "      <td>...</td>\n",
       "      <td>...</td>\n",
       "      <td>...</td>\n",
       "      <td>...</td>\n",
       "      <td>...</td>\n",
       "      <td>...</td>\n",
       "      <td>...</td>\n",
       "    </tr>\n",
       "    <tr>\n",
       "      <th>193884</th>\n",
       "      <td>209576</td>\n",
       "      <td>209576</td>\n",
       "      <td>137670</td>\n",
       "      <td>1347</td>\n",
       "      <td>2019-09-16</td>\n",
       "      <td>0.000000</td>\n",
       "      <td>137670</td>\n",
       "      <td>1347.0</td>\n",
       "      <td>0.0</td>\n",
       "      <td>0.0</td>\n",
       "      <td>0.000000</td>\n",
       "      <td>0.00</td>\n",
       "      <td>0.0</td>\n",
       "      <td>1.0</td>\n",
       "      <td>16</td>\n",
       "      <td>0</td>\n",
       "      <td>2019</td>\n",
       "      <td>9</td>\n",
       "      <td>259</td>\n",
       "      <td>0</td>\n",
       "    </tr>\n",
       "    <tr>\n",
       "      <th>193885</th>\n",
       "      <td>209577</td>\n",
       "      <td>209577</td>\n",
       "      <td>137670</td>\n",
       "      <td>1316</td>\n",
       "      <td>2019-09-23</td>\n",
       "      <td>0.000000</td>\n",
       "      <td>137670</td>\n",
       "      <td>1316.0</td>\n",
       "      <td>0.0</td>\n",
       "      <td>0.0</td>\n",
       "      <td>0.000000</td>\n",
       "      <td>0.00</td>\n",
       "      <td>0.0</td>\n",
       "      <td>1.0</td>\n",
       "      <td>23</td>\n",
       "      <td>0</td>\n",
       "      <td>2019</td>\n",
       "      <td>9</td>\n",
       "      <td>266</td>\n",
       "      <td>0</td>\n",
       "    </tr>\n",
       "    <tr>\n",
       "      <th>193886</th>\n",
       "      <td>209578</td>\n",
       "      <td>209578</td>\n",
       "      <td>137670</td>\n",
       "      <td>1326</td>\n",
       "      <td>2019-09-23</td>\n",
       "      <td>0.000000</td>\n",
       "      <td>137670</td>\n",
       "      <td>1326.0</td>\n",
       "      <td>0.0</td>\n",
       "      <td>0.0</td>\n",
       "      <td>0.000000</td>\n",
       "      <td>0.00</td>\n",
       "      <td>0.0</td>\n",
       "      <td>1.0</td>\n",
       "      <td>23</td>\n",
       "      <td>0</td>\n",
       "      <td>2019</td>\n",
       "      <td>9</td>\n",
       "      <td>266</td>\n",
       "      <td>0</td>\n",
       "    </tr>\n",
       "    <tr>\n",
       "      <th>193887</th>\n",
       "      <td>209579</td>\n",
       "      <td>209579</td>\n",
       "      <td>98447</td>\n",
       "      <td>1316</td>\n",
       "      <td>2019-09-23</td>\n",
       "      <td>1.000000</td>\n",
       "      <td>98447</td>\n",
       "      <td>1316.0</td>\n",
       "      <td>1.0</td>\n",
       "      <td>0.0</td>\n",
       "      <td>3299.000000</td>\n",
       "      <td>0.00</td>\n",
       "      <td>0.0</td>\n",
       "      <td>1.0</td>\n",
       "      <td>23</td>\n",
       "      <td>0</td>\n",
       "      <td>2019</td>\n",
       "      <td>9</td>\n",
       "      <td>266</td>\n",
       "      <td>0</td>\n",
       "    </tr>\n",
       "    <tr>\n",
       "      <th>193888</th>\n",
       "      <td>209580</td>\n",
       "      <td>209580</td>\n",
       "      <td>98471</td>\n",
       "      <td>1316</td>\n",
       "      <td>2019-10-07</td>\n",
       "      <td>1.000000</td>\n",
       "      <td>98471</td>\n",
       "      <td>1316.0</td>\n",
       "      <td>0.0</td>\n",
       "      <td>0.0</td>\n",
       "      <td>3049.000000</td>\n",
       "      <td>2286.75</td>\n",
       "      <td>0.0</td>\n",
       "      <td>1.0</td>\n",
       "      <td>7</td>\n",
       "      <td>0</td>\n",
       "      <td>2019</td>\n",
       "      <td>10</td>\n",
       "      <td>280</td>\n",
       "      <td>0</td>\n",
       "    </tr>\n",
       "  </tbody>\n",
       "</table>\n",
       "<p>168694 rows × 20 columns</p>\n",
       "</div>"
      ],
      "text/plain": [
       "        Unnamed: 0   index  product_rk  store_location_rk  period_dt  \\\n",
       "0               43      43       19540                309 2016-12-26   \n",
       "1               44      44       19540                355 2016-12-19   \n",
       "2               45      45       19540                355 2017-01-02   \n",
       "3               46      46       19540                355 2017-03-27   \n",
       "4               47      47       19540                355 2018-01-01   \n",
       "...            ...     ...         ...                ...        ...   \n",
       "193884      209576  209576      137670               1347 2019-09-16   \n",
       "193885      209577  209577      137670               1316 2019-09-23   \n",
       "193886      209578  209578      137670               1326 2019-09-23   \n",
       "193887      209579  209579       98447               1316 2019-09-23   \n",
       "193888      209580  209580       98471               1316 2019-10-07   \n",
       "\n",
       "          demand  PRODUCT_ID  STORE_LOCATION_ID  PROMO1_FLAG  PROMO2_FLAG  \\\n",
       "0       1.000000       19540               -1.0          0.0          0.0   \n",
       "1       1.000000       19540               -1.0          0.0          0.0   \n",
       "2       0.027027       19540              355.0          1.0          0.0   \n",
       "3       1.000000       19540              355.0          0.0          0.0   \n",
       "4       0.002740       19540              355.0          1.0          0.0   \n",
       "...          ...         ...                ...          ...          ...   \n",
       "193884  0.000000      137670             1347.0          0.0          0.0   \n",
       "193885  0.000000      137670             1316.0          0.0          0.0   \n",
       "193886  0.000000      137670             1326.0          0.0          0.0   \n",
       "193887  1.000000       98447             1316.0          1.0          0.0   \n",
       "193888  1.000000       98471             1316.0          0.0          0.0   \n",
       "\n",
       "        PRICE_REGULAR  PRICE_AFTER_DISC  NUM_CONSULTANT  AUTORIZATION_FLAG  \\\n",
       "0            0.000000              0.00             0.0                0.0   \n",
       "1            0.000000              0.00             0.0                0.0   \n",
       "2         2849.000000           1709.40             0.0                1.0   \n",
       "3         2856.142857           1782.02             0.0                1.0   \n",
       "4         2899.000000           2217.74             0.0                1.0   \n",
       "...               ...               ...             ...                ...   \n",
       "193884       0.000000              0.00             0.0                1.0   \n",
       "193885       0.000000              0.00             0.0                1.0   \n",
       "193886       0.000000              0.00             0.0                1.0   \n",
       "193887    3299.000000              0.00             0.0                1.0   \n",
       "193888    3049.000000           2286.75             0.0                1.0   \n",
       "\n",
       "        day  weekday  year  month  dayofyear  flag  \n",
       "0        26        0  2016     12        361     0  \n",
       "1        19        0  2016     12        354     0  \n",
       "2         2        0  2017      1          2     0  \n",
       "3        27        0  2017      3         86     0  \n",
       "4         1        0  2018      1          1     0  \n",
       "...     ...      ...   ...    ...        ...   ...  \n",
       "193884   16        0  2019      9        259     0  \n",
       "193885   23        0  2019      9        266     0  \n",
       "193886   23        0  2019      9        266     0  \n",
       "193887   23        0  2019      9        266     0  \n",
       "193888    7        0  2019     10        280     0  \n",
       "\n",
       "[168694 rows x 20 columns]"
      ]
     },
     "execution_count": 20,
     "metadata": {},
     "output_type": "execute_result"
    }
   ],
   "source": [
    "df_train_low"
   ]
  },
  {
   "cell_type": "code",
   "execution_count": 21,
   "id": "recent-hearts",
   "metadata": {
    "execution": {
     "iopub.execute_input": "2021-06-03T23:03:02.152092Z",
     "iopub.status.busy": "2021-06-03T23:03:02.151298Z",
     "iopub.status.idle": "2021-06-03T23:03:02.160656Z",
     "shell.execute_reply": "2021-06-03T23:03:02.161078Z"
    },
    "papermill": {
     "duration": 0.059189,
     "end_time": "2021-06-03T23:03:02.161235",
     "exception": false,
     "start_time": "2021-06-03T23:03:02.102046",
     "status": "completed"
    },
    "tags": []
   },
   "outputs": [
    {
     "data": {
      "text/plain": [
       "20971    1808\n",
       "20727    1566\n",
       "20725    1485\n",
       "21271    1452\n",
       "20726    1402\n",
       "         ... \n",
       "98553       1\n",
       "98428       1\n",
       "98505       1\n",
       "98495       1\n",
       "98395       1\n",
       "Name: PRODUCT_ID, Length: 894, dtype: int64"
      ]
     },
     "execution_count": 21,
     "metadata": {},
     "output_type": "execute_result"
    }
   ],
   "source": [
    "df_train.PRODUCT_ID.value_counts()"
   ]
  },
  {
   "cell_type": "code",
   "execution_count": 22,
   "id": "through-singapore",
   "metadata": {
    "execution": {
     "iopub.execute_input": "2021-06-03T23:03:02.254375Z",
     "iopub.status.busy": "2021-06-03T23:03:02.253538Z",
     "iopub.status.idle": "2021-06-03T23:03:02.267561Z",
     "shell.execute_reply": "2021-06-03T23:03:02.268010Z"
    },
    "papermill": {
     "duration": 0.062207,
     "end_time": "2021-06-03T23:03:02.268168",
     "exception": false,
     "start_time": "2021-06-03T23:03:02.205961",
     "status": "completed"
    },
    "tags": []
   },
   "outputs": [
    {
     "data": {
      "text/plain": [
       " 1281.0    13563\n",
       " 525.0     12396\n",
       " 1326.0    10684\n",
       " 764.0     10582\n",
       " 1034.0     9852\n",
       " 1316.0     9494\n",
       " 557.0      9131\n",
       " 425.0      8824\n",
       " 1328.0     8598\n",
       " 1347.0     7795\n",
       " 657.0      7245\n",
       " 1363.0     7184\n",
       " 798.0      6817\n",
       " 453.0      5902\n",
       " 1005.0     5834\n",
       " 1162.0     4986\n",
       " 562.0      4615\n",
       " 862.0      4286\n",
       " 874.0      3940\n",
       " 866.0      3804\n",
       " 355.0      3675\n",
       " 1191.0     3154\n",
       " 1203.0     2753\n",
       " 1080.0     2574\n",
       " 644.0      2253\n",
       " 1079.0     2086\n",
       " 517.0      2017\n",
       " 555.0      1870\n",
       " 380.0      1793\n",
       " 1143.0     1669\n",
       " 1185.0     1668\n",
       "-1.0        1665\n",
       " 535.0      1509\n",
       " 637.0      1388\n",
       " 540.0      1375\n",
       " 504.0      1186\n",
       " 1173.0     1152\n",
       " 1202.0     1076\n",
       " 317.0      1072\n",
       " 533.0       992\n",
       " 1380.0      919\n",
       "Name: STORE_LOCATION_ID, dtype: int64"
      ]
     },
     "execution_count": 22,
     "metadata": {},
     "output_type": "execute_result"
    }
   ],
   "source": [
    "df_train.STORE_LOCATION_ID.value_counts() "
   ]
  },
  {
   "cell_type": "code",
   "execution_count": 23,
   "id": "approved-pharmaceutical",
   "metadata": {
    "execution": {
     "iopub.execute_input": "2021-06-03T23:03:02.361367Z",
     "iopub.status.busy": "2021-06-03T23:03:02.360462Z",
     "iopub.status.idle": "2021-06-03T23:03:02.410550Z",
     "shell.execute_reply": "2021-06-03T23:03:02.411008Z",
     "shell.execute_reply.started": "2021-05-20T22:07:57.646972Z"
    },
    "papermill": {
     "duration": 0.0982,
     "end_time": "2021-06-03T23:03:02.411171",
     "exception": false,
     "start_time": "2021-06-03T23:03:02.312971",
     "status": "completed"
    },
    "tags": []
   },
   "outputs": [
    {
     "data": {
      "text/html": [
       "<div>\n",
       "<style scoped>\n",
       "    .dataframe tbody tr th:only-of-type {\n",
       "        vertical-align: middle;\n",
       "    }\n",
       "\n",
       "    .dataframe tbody tr th {\n",
       "        vertical-align: top;\n",
       "    }\n",
       "\n",
       "    .dataframe thead th {\n",
       "        text-align: right;\n",
       "    }\n",
       "</style>\n",
       "<table border=\"1\" class=\"dataframe\">\n",
       "  <thead>\n",
       "    <tr style=\"text-align: right;\">\n",
       "      <th></th>\n",
       "      <th>PRODUCT_ID</th>\n",
       "      <th>STORE_LOCATION_ID</th>\n",
       "      <th>period_dt</th>\n",
       "    </tr>\n",
       "  </thead>\n",
       "  <tbody>\n",
       "    <tr>\n",
       "      <th>0</th>\n",
       "      <td>19540</td>\n",
       "      <td>-1.0</td>\n",
       "      <td>2016-12-19</td>\n",
       "    </tr>\n",
       "    <tr>\n",
       "      <th>1</th>\n",
       "      <td>19540</td>\n",
       "      <td>355.0</td>\n",
       "      <td>2017-01-02</td>\n",
       "    </tr>\n",
       "    <tr>\n",
       "      <th>2</th>\n",
       "      <td>19540</td>\n",
       "      <td>380.0</td>\n",
       "      <td>2018-02-26</td>\n",
       "    </tr>\n",
       "    <tr>\n",
       "      <th>3</th>\n",
       "      <td>19540</td>\n",
       "      <td>425.0</td>\n",
       "      <td>2016-12-26</td>\n",
       "    </tr>\n",
       "    <tr>\n",
       "      <th>4</th>\n",
       "      <td>19540</td>\n",
       "      <td>453.0</td>\n",
       "      <td>2017-01-02</td>\n",
       "    </tr>\n",
       "    <tr>\n",
       "      <th>...</th>\n",
       "      <td>...</td>\n",
       "      <td>...</td>\n",
       "      <td>...</td>\n",
       "    </tr>\n",
       "    <tr>\n",
       "      <th>14939</th>\n",
       "      <td>140615</td>\n",
       "      <td>1316.0</td>\n",
       "      <td>2019-07-15</td>\n",
       "    </tr>\n",
       "    <tr>\n",
       "      <th>14940</th>\n",
       "      <td>140615</td>\n",
       "      <td>1326.0</td>\n",
       "      <td>2019-07-15</td>\n",
       "    </tr>\n",
       "    <tr>\n",
       "      <th>14941</th>\n",
       "      <td>140615</td>\n",
       "      <td>1328.0</td>\n",
       "      <td>2019-07-15</td>\n",
       "    </tr>\n",
       "    <tr>\n",
       "      <th>14942</th>\n",
       "      <td>140615</td>\n",
       "      <td>1347.0</td>\n",
       "      <td>2019-07-15</td>\n",
       "    </tr>\n",
       "    <tr>\n",
       "      <th>14943</th>\n",
       "      <td>140615</td>\n",
       "      <td>1363.0</td>\n",
       "      <td>2019-07-15</td>\n",
       "    </tr>\n",
       "  </tbody>\n",
       "</table>\n",
       "<p>14944 rows × 3 columns</p>\n",
       "</div>"
      ],
      "text/plain": [
       "       PRODUCT_ID  STORE_LOCATION_ID  period_dt\n",
       "0           19540               -1.0 2016-12-19\n",
       "1           19540              355.0 2017-01-02\n",
       "2           19540              380.0 2018-02-26\n",
       "3           19540              425.0 2016-12-26\n",
       "4           19540              453.0 2017-01-02\n",
       "...           ...                ...        ...\n",
       "14939      140615             1316.0 2019-07-15\n",
       "14940      140615             1326.0 2019-07-15\n",
       "14941      140615             1328.0 2019-07-15\n",
       "14942      140615             1347.0 2019-07-15\n",
       "14943      140615             1363.0 2019-07-15\n",
       "\n",
       "[14944 rows x 3 columns]"
      ]
     },
     "execution_count": 23,
     "metadata": {},
     "output_type": "execute_result"
    }
   ],
   "source": [
    "df_first = df_train.groupby(by=[\"PRODUCT_ID\", \"STORE_LOCATION_ID\"])[\"period_dt\"].min().reset_index()\n",
    "df_first"
   ]
  },
  {
   "cell_type": "markdown",
   "id": "allied-henry",
   "metadata": {
    "papermill": {
     "duration": 0.045066,
     "end_time": "2021-06-03T23:03:02.600868",
     "exception": false,
     "start_time": "2021-06-03T23:03:02.555802",
     "status": "completed"
    },
    "tags": []
   },
   "source": [
    "# Create pairs"
   ]
  },
  {
   "cell_type": "code",
   "execution_count": 24,
   "id": "veterinary-pizza",
   "metadata": {
    "execution": {
     "iopub.execute_input": "2021-06-03T23:03:02.698084Z",
     "iopub.status.busy": "2021-06-03T23:03:02.697536Z",
     "iopub.status.idle": "2021-06-03T23:03:02.699330Z",
     "shell.execute_reply": "2021-06-03T23:03:02.699758Z",
     "shell.execute_reply.started": "2021-05-20T22:08:17.115137Z"
    },
    "papermill": {
     "duration": 0.053597,
     "end_time": "2021-06-03T23:03:02.699911",
     "exception": false,
     "start_time": "2021-06-03T23:03:02.646314",
     "status": "completed"
    },
    "tags": []
   },
   "outputs": [],
   "source": [
    "pairs = list(zip(df_first[\"PRODUCT_ID\"], df_first[\"STORE_LOCATION_ID\"]))"
   ]
  },
  {
   "cell_type": "code",
   "execution_count": 25,
   "id": "solar-slope",
   "metadata": {
    "execution": {
     "iopub.execute_input": "2021-06-03T23:03:02.793734Z",
     "iopub.status.busy": "2021-06-03T23:03:02.793191Z",
     "iopub.status.idle": "2021-06-03T23:03:06.975499Z",
     "shell.execute_reply": "2021-06-03T23:03:06.975968Z",
     "shell.execute_reply.started": "2021-05-20T22:08:17.860392Z"
    },
    "papermill": {
     "duration": 4.230421,
     "end_time": "2021-06-03T23:03:06.976132",
     "exception": false,
     "start_time": "2021-06-03T23:03:02.745711",
     "status": "completed"
    },
    "tags": []
   },
   "outputs": [],
   "source": [
    "df_train1 = df_train[df_train[[\"PRODUCT_ID\", \"STORE_LOCATION_ID\"]].apply(tuple, axis = 1).isin(pairs)]"
   ]
  },
  {
   "cell_type": "markdown",
   "id": "metric-trinity",
   "metadata": {
    "papermill": {
     "duration": 0.045594,
     "end_time": "2021-06-03T23:03:07.158463",
     "exception": false,
     "start_time": "2021-06-03T23:03:07.112869",
     "status": "completed"
    },
    "tags": []
   },
   "source": [
    "# Dates cleaning"
   ]
  },
  {
   "cell_type": "code",
   "execution_count": 26,
   "id": "green-belize",
   "metadata": {
    "execution": {
     "iopub.execute_input": "2021-06-03T23:03:07.260718Z",
     "iopub.status.busy": "2021-06-03T23:03:07.260055Z",
     "iopub.status.idle": "2021-06-03T23:03:07.290659Z",
     "shell.execute_reply": "2021-06-03T23:03:07.290170Z",
     "shell.execute_reply.started": "2021-05-20T22:20:18.87266Z"
    },
    "papermill": {
     "duration": 0.086977,
     "end_time": "2021-06-03T23:03:07.290805",
     "exception": false,
     "start_time": "2021-06-03T23:03:07.203828",
     "status": "completed"
    },
    "tags": []
   },
   "outputs": [],
   "source": [
    "df_train = df_train.drop(columns = \"period_dt\")\n",
    "df_test = df_test.drop(columns = \"period_dt\")"
   ]
  },
  {
   "cell_type": "markdown",
   "id": "supreme-chemistry",
   "metadata": {
    "papermill": {
     "duration": 0.044992,
     "end_time": "2021-06-03T23:03:07.380873",
     "exception": false,
     "start_time": "2021-06-03T23:03:07.335881",
     "status": "completed"
    },
    "tags": []
   },
   "source": [
    "# Model"
   ]
  },
  {
   "cell_type": "code",
   "execution_count": 27,
   "id": "ordinary-louisiana",
   "metadata": {
    "execution": {
     "iopub.execute_input": "2021-06-03T23:03:07.513656Z",
     "iopub.status.busy": "2021-06-03T23:03:07.479962Z",
     "iopub.status.idle": "2021-06-03T23:03:07.877910Z",
     "shell.execute_reply": "2021-06-03T23:03:07.878344Z",
     "shell.execute_reply.started": "2021-05-20T22:20:22.484148Z"
    },
    "papermill": {
     "duration": 0.452316,
     "end_time": "2021-06-03T23:03:07.878496",
     "exception": false,
     "start_time": "2021-06-03T23:03:07.426180",
     "status": "completed"
    },
    "tags": []
   },
   "outputs": [],
   "source": [
    "y = df_train[\"flag\"]\n",
    "X = df_train.drop(columns=[\"flag\", \"demand\"])\n",
    "\n",
    "X_train, X_test, y_train, y_test = train_test_split(X, y, test_size=0.2, random_state=808, stratify=y)"
   ]
  },
  {
   "cell_type": "code",
   "execution_count": 28,
   "id": "dutch-halifax",
   "metadata": {
    "execution": {
     "iopub.execute_input": "2021-06-03T23:03:07.974100Z",
     "iopub.status.busy": "2021-06-03T23:03:07.973537Z",
     "iopub.status.idle": "2021-06-03T23:03:07.976340Z",
     "shell.execute_reply": "2021-06-03T23:03:07.975847Z",
     "shell.execute_reply.started": "2021-05-20T22:20:23.355142Z"
    },
    "papermill": {
     "duration": 0.052602,
     "end_time": "2021-06-03T23:03:07.976459",
     "exception": false,
     "start_time": "2021-06-03T23:03:07.923857",
     "status": "completed"
    },
    "tags": []
   },
   "outputs": [],
   "source": [
    "features = np.array(X_train.columns)\n",
    "categorical = features"
   ]
  },
  {
   "cell_type": "code",
   "execution_count": 29,
   "id": "functional-privacy",
   "metadata": {
    "execution": {
     "iopub.execute_input": "2021-06-03T23:03:08.072678Z",
     "iopub.status.busy": "2021-06-03T23:03:08.071874Z",
     "iopub.status.idle": "2021-06-03T23:03:08.074596Z",
     "shell.execute_reply": "2021-06-03T23:03:08.074123Z",
     "shell.execute_reply.started": "2021-05-20T22:20:29.522011Z"
    },
    "papermill": {
     "duration": 0.052837,
     "end_time": "2021-06-03T23:03:08.074729",
     "exception": false,
     "start_time": "2021-06-03T23:03:08.021892",
     "status": "completed"
    },
    "tags": []
   },
   "outputs": [],
   "source": [
    "numeric = []"
   ]
  },
  {
   "cell_type": "code",
   "execution_count": 30,
   "id": "obvious-private",
   "metadata": {
    "execution": {
     "iopub.execute_input": "2021-06-03T23:03:08.169996Z",
     "iopub.status.busy": "2021-06-03T23:03:08.169391Z",
     "iopub.status.idle": "2021-06-03T23:03:08.172210Z",
     "shell.execute_reply": "2021-06-03T23:03:08.171813Z",
     "shell.execute_reply.started": "2021-05-20T22:20:31.932458Z"
    },
    "papermill": {
     "duration": 0.05224,
     "end_time": "2021-06-03T23:03:08.172332",
     "exception": false,
     "start_time": "2021-06-03T23:03:08.120092",
     "status": "completed"
    },
    "tags": []
   },
   "outputs": [],
   "source": [
    "xgb_flags = xgb.XGBClassifier(n_estimators=350, learning_rate=0.22, max_depth=6)"
   ]
  },
  {
   "cell_type": "code",
   "execution_count": 31,
   "id": "regulation-french",
   "metadata": {
    "execution": {
     "iopub.execute_input": "2021-06-03T23:03:08.267823Z",
     "iopub.status.busy": "2021-06-03T23:03:08.267255Z",
     "iopub.status.idle": "2021-06-03T23:03:08.270216Z",
     "shell.execute_reply": "2021-06-03T23:03:08.269764Z",
     "shell.execute_reply.started": "2021-05-20T22:20:33.973724Z"
    },
    "papermill": {
     "duration": 0.052732,
     "end_time": "2021-06-03T23:03:08.270340",
     "exception": false,
     "start_time": "2021-06-03T23:03:08.217608",
     "status": "completed"
    },
    "tags": []
   },
   "outputs": [],
   "source": [
    "column_transformer = ColumnTransformer(\n",
    "    [\n",
    "        (\"ohe\", OneHotEncoder(handle_unknown=\"ignore\"), categorical),\n",
    "        (\"scaling\", StandardScaler(), numeric),\n",
    "    ]\n",
    ")\n",
    "\n",
    "pipeline = Pipeline(\n",
    "    steps=[\n",
    "        (\"ohe_and_scaling\", column_transformer),\n",
    "        (\n",
    "            \"classifier\",\n",
    "            xgb_flags,\n",
    "        ),\n",
    "    ]\n",
    ")"
   ]
  },
  {
   "cell_type": "code",
   "execution_count": 32,
   "id": "material-flavor",
   "metadata": {
    "execution": {
     "iopub.execute_input": "2021-06-03T23:03:08.372387Z",
     "iopub.status.busy": "2021-06-03T23:03:08.371786Z",
     "iopub.status.idle": "2021-06-03T23:04:00.642135Z",
     "shell.execute_reply": "2021-06-03T23:04:00.642814Z",
     "shell.execute_reply.started": "2021-05-20T22:20:39.861081Z"
    },
    "papermill": {
     "duration": 52.327143,
     "end_time": "2021-06-03T23:04:00.643021",
     "exception": false,
     "start_time": "2021-06-03T23:03:08.315878",
     "status": "completed"
    },
    "tags": []
   },
   "outputs": [
    {
     "name": "stderr",
     "output_type": "stream",
     "text": [
      "c:\\users\\pipek\\downloads\\wpy64-3810\\python-3.8.1.amd64\\lib\\site-packages\\xgboost\\sklearn.py:888: UserWarning: The use of label encoder in XGBClassifier is deprecated and will be removed in a future release. To remove this warning, do the following: 1) Pass option use_label_encoder=False when constructing XGBClassifier object; and 2) Encode your labels (y) as integers starting with 0, i.e. 0, 1, 2, ..., [num_class - 1].\n",
      "  warnings.warn(label_encoder_deprecation_msg, UserWarning)\n"
     ]
    },
    {
     "name": "stdout",
     "output_type": "stream",
     "text": [
      "[00:11:08] WARNING: C:/Users/Administrator/workspace/xgboost-win64_release_1.3.0/src/learner.cc:1061: Starting in XGBoost 1.3.0, the default evaluation metric used with the objective 'binary:logistic' was changed from 'error' to 'logloss'. Explicitly set eval_metric if you'd like to restore the old behavior.\n"
     ]
    },
    {
     "data": {
      "text/plain": [
       "0.9976729754886752"
      ]
     },
     "execution_count": 32,
     "metadata": {},
     "output_type": "execute_result"
    }
   ],
   "source": [
    "model_flags = pipeline\n",
    "model_flags.fit(X_train, y_train)\n",
    "y_temp = model_flags.predict(X_test)\n",
    "accuracy_score(y_test, y_temp)"
   ]
  },
  {
   "cell_type": "code",
   "execution_count": 33,
   "id": "conditional-joshua",
   "metadata": {
    "execution": {
     "iopub.execute_input": "2021-06-03T23:04:00.756196Z",
     "iopub.status.busy": "2021-06-03T23:04:00.755370Z",
     "iopub.status.idle": "2021-06-03T23:04:00.802607Z",
     "shell.execute_reply": "2021-06-03T23:04:00.802020Z",
     "shell.execute_reply.started": "2021-05-20T22:22:13.980899Z"
    },
    "papermill": {
     "duration": 0.1061,
     "end_time": "2021-06-03T23:04:00.802741",
     "exception": false,
     "start_time": "2021-06-03T23:04:00.696641",
     "status": "completed"
    },
    "tags": []
   },
   "outputs": [
    {
     "data": {
      "text/plain": [
       "0.9988348609600746"
      ]
     },
     "execution_count": 33,
     "metadata": {},
     "output_type": "execute_result"
    }
   ],
   "source": [
    "f1_score(y_test, y_temp)"
   ]
  },
  {
   "cell_type": "markdown",
   "id": "distributed-general",
   "metadata": {
    "papermill": {
     "duration": 0.046703,
     "end_time": "2021-06-03T23:04:00.902498",
     "exception": false,
     "start_time": "2021-06-03T23:04:00.855795",
     "status": "completed"
    },
    "tags": []
   },
   "source": [
    "### Make smape score"
   ]
  },
  {
   "cell_type": "code",
   "execution_count": 34,
   "id": "manufactured-guidance",
   "metadata": {
    "execution": {
     "iopub.execute_input": "2021-06-03T23:04:01.001891Z",
     "iopub.status.busy": "2021-06-03T23:04:00.999121Z",
     "iopub.status.idle": "2021-06-03T23:04:01.004433Z",
     "shell.execute_reply": "2021-06-03T23:04:01.004935Z",
     "shell.execute_reply.started": "2021-05-20T22:13:58.702975Z"
    },
    "papermill": {
     "duration": 0.055712,
     "end_time": "2021-06-03T23:04:01.005099",
     "exception": false,
     "start_time": "2021-06-03T23:04:00.949387",
     "status": "completed"
    },
    "tags": []
   },
   "outputs": [],
   "source": [
    "def my_smape(A, F):\n",
    "    A = A\n",
    "    F = F\n",
    "    return 100/len(A) * np.sum(2 * np.abs(F - A) / (np.abs(A) + np.abs(F)))\n",
    "\n",
    "smape = make_scorer(my_smape, greater_is_better=False)"
   ]
  },
  {
   "cell_type": "markdown",
   "id": "honest-debut",
   "metadata": {
    "papermill": {
     "duration": 0.046403,
     "end_time": "2021-06-03T23:04:01.099172",
     "exception": false,
     "start_time": "2021-06-03T23:04:01.052769",
     "status": "completed"
    },
    "tags": []
   },
   "source": [
    "### XGBoost"
   ]
  },
  {
   "cell_type": "code",
   "execution_count": 35,
   "id": "pleased-texas",
   "metadata": {
    "execution": {
     "iopub.execute_input": "2021-06-03T23:04:01.199007Z",
     "iopub.status.busy": "2021-06-03T23:04:01.198226Z",
     "iopub.status.idle": "2021-06-03T23:04:01.202147Z",
     "shell.execute_reply": "2021-06-03T23:04:01.202564Z",
     "shell.execute_reply.started": "2021-05-20T21:57:40.385167Z"
    },
    "papermill": {
     "duration": 0.056608,
     "end_time": "2021-06-03T23:04:01.202734",
     "exception": false,
     "start_time": "2021-06-03T23:04:01.146126",
     "status": "completed"
    },
    "tags": []
   },
   "outputs": [
    {
     "data": {
      "text/plain": [
       "Index(['Unnamed: 0', 'index', 'product_rk', 'store_location_rk', 'demand',\n",
       "       'PRODUCT_ID', 'STORE_LOCATION_ID', 'PROMO1_FLAG', 'PROMO2_FLAG',\n",
       "       'PRICE_REGULAR', 'PRICE_AFTER_DISC', 'NUM_CONSULTANT',\n",
       "       'AUTORIZATION_FLAG', 'day', 'weekday', 'year', 'month', 'dayofyear',\n",
       "       'flag'],\n",
       "      dtype='object')"
      ]
     },
     "execution_count": 35,
     "metadata": {},
     "output_type": "execute_result"
    }
   ],
   "source": [
    "df_train.columns"
   ]
  },
  {
   "cell_type": "code",
   "execution_count": 36,
   "id": "historical-farming",
   "metadata": {
    "execution": {
     "iopub.execute_input": "2021-06-03T23:04:01.349294Z",
     "iopub.status.busy": "2021-06-03T23:04:01.348560Z",
     "iopub.status.idle": "2021-06-03T23:04:01.352118Z",
     "shell.execute_reply": "2021-06-03T23:04:01.351684Z",
     "shell.execute_reply.started": "2021-05-20T22:22:14.027613Z"
    },
    "papermill": {
     "duration": 0.099943,
     "end_time": "2021-06-03T23:04:01.352246",
     "exception": false,
     "start_time": "2021-06-03T23:04:01.252303",
     "status": "completed"
    },
    "tags": []
   },
   "outputs": [],
   "source": [
    "y = df_train[\"demand\"]\n",
    "X = df_train.drop(columns=[\"demand\", \"flag\"])"
   ]
  },
  {
   "cell_type": "code",
   "execution_count": 37,
   "id": "lesser-drilling",
   "metadata": {
    "execution": {
     "iopub.execute_input": "2021-06-03T23:04:01.450289Z",
     "iopub.status.busy": "2021-06-03T23:04:01.449565Z",
     "iopub.status.idle": "2021-06-03T23:04:01.592207Z",
     "shell.execute_reply": "2021-06-03T23:04:01.591745Z",
     "shell.execute_reply.started": "2021-05-20T22:22:14.085134Z"
    },
    "papermill": {
     "duration": 0.193571,
     "end_time": "2021-06-03T23:04:01.592329",
     "exception": false,
     "start_time": "2021-06-03T23:04:01.398758",
     "status": "completed"
    },
    "tags": []
   },
   "outputs": [],
   "source": [
    "X_train, X_test, y_train, y_test = train_test_split(X, y, test_size=0.2, shuffle=True, random_state=707)"
   ]
  },
  {
   "cell_type": "code",
   "execution_count": 38,
   "id": "freelance-rebound",
   "metadata": {
    "execution": {
     "iopub.execute_input": "2021-06-03T23:04:01.690552Z",
     "iopub.status.busy": "2021-06-03T23:04:01.689696Z",
     "iopub.status.idle": "2021-06-03T23:04:01.691969Z",
     "shell.execute_reply": "2021-06-03T23:04:01.692357Z",
     "shell.execute_reply.started": "2021-05-20T22:22:14.317603Z"
    },
    "papermill": {
     "duration": 0.053582,
     "end_time": "2021-06-03T23:04:01.692499",
     "exception": false,
     "start_time": "2021-06-03T23:04:01.638917",
     "status": "completed"
    },
    "tags": []
   },
   "outputs": [],
   "source": [
    "features = np.array(X_train.columns)\n",
    "\n",
    "numeric = []\n",
    "\n",
    "categorical = features"
   ]
  },
  {
   "cell_type": "code",
   "execution_count": 39,
   "id": "indonesian-poverty",
   "metadata": {
    "execution": {
     "iopub.execute_input": "2021-06-03T23:04:01.790410Z",
     "iopub.status.busy": "2021-06-03T23:04:01.789692Z",
     "iopub.status.idle": "2021-06-03T23:04:01.793462Z",
     "shell.execute_reply": "2021-06-03T23:04:01.792946Z",
     "shell.execute_reply.started": "2021-05-20T22:14:09.559121Z"
    },
    "papermill": {
     "duration": 0.054551,
     "end_time": "2021-06-03T23:04:01.793617",
     "exception": false,
     "start_time": "2021-06-03T23:04:01.739066",
     "status": "completed"
    },
    "tags": []
   },
   "outputs": [
    {
     "data": {
      "text/plain": [
       "array(['Unnamed: 0', 'index', 'product_rk', 'store_location_rk',\n",
       "       'PRODUCT_ID', 'STORE_LOCATION_ID', 'PROMO1_FLAG', 'PROMO2_FLAG',\n",
       "       'PRICE_REGULAR', 'PRICE_AFTER_DISC', 'NUM_CONSULTANT',\n",
       "       'AUTORIZATION_FLAG', 'day', 'weekday', 'year', 'month',\n",
       "       'dayofyear'], dtype=object)"
      ]
     },
     "execution_count": 39,
     "metadata": {},
     "output_type": "execute_result"
    }
   ],
   "source": [
    "categorical"
   ]
  },
  {
   "cell_type": "code",
   "execution_count": 40,
   "id": "occasional-facility",
   "metadata": {
    "execution": {
     "iopub.execute_input": "2021-06-03T23:04:01.892756Z",
     "iopub.status.busy": "2021-06-03T23:04:01.892152Z",
     "iopub.status.idle": "2021-06-03T23:04:01.894861Z",
     "shell.execute_reply": "2021-06-03T23:04:01.894313Z",
     "shell.execute_reply.started": "2021-05-20T22:22:14.324771Z"
    },
    "papermill": {
     "duration": 0.053973,
     "end_time": "2021-06-03T23:04:01.894984",
     "exception": false,
     "start_time": "2021-06-03T23:04:01.841011",
     "status": "completed"
    },
    "tags": []
   },
   "outputs": [],
   "source": [
    "args = {'eval_metric': 'mape', 'eta': 0.24, 'n_estimators': 330, 'max_depth': 4}\n",
    "xgb_cool = xgb.XGBRegressor(**args)"
   ]
  },
  {
   "cell_type": "code",
   "execution_count": 41,
   "id": "incoming-silence",
   "metadata": {
    "execution": {
     "iopub.execute_input": "2021-06-03T23:04:01.995103Z",
     "iopub.status.busy": "2021-06-03T23:04:01.994543Z",
     "iopub.status.idle": "2021-06-03T23:04:01.997331Z",
     "shell.execute_reply": "2021-06-03T23:04:01.996897Z",
     "shell.execute_reply.started": "2021-05-20T22:22:14.337821Z"
    },
    "papermill": {
     "duration": 0.054989,
     "end_time": "2021-06-03T23:04:01.997449",
     "exception": false,
     "start_time": "2021-06-03T23:04:01.942460",
     "status": "completed"
    },
    "tags": []
   },
   "outputs": [],
   "source": [
    "column_transformer = ColumnTransformer(\n",
    "    [\n",
    "        (\"ohe\", OneHotEncoder(handle_unknown=\"ignore\"), categorical),\n",
    "        (\"scaling\", StandardScaler(), numeric),\n",
    "    ]\n",
    ")\n",
    "\n",
    "pipeline = Pipeline(\n",
    "    steps=[\n",
    "        (\"ohe_and_scaling\", column_transformer),\n",
    "        (\n",
    "            \"GBRegressor\",\n",
    "            xgb_cool,\n",
    "        ),\n",
    "    ]\n",
    ")"
   ]
  },
  {
   "cell_type": "code",
   "execution_count": 42,
   "id": "meaningful-bandwidth",
   "metadata": {
    "execution": {
     "iopub.execute_input": "2021-06-03T23:04:02.100804Z",
     "iopub.status.busy": "2021-06-03T23:04:02.100197Z",
     "iopub.status.idle": "2021-06-03T23:04:40.334335Z",
     "shell.execute_reply": "2021-06-03T23:04:40.334863Z",
     "shell.execute_reply.started": "2021-05-20T22:22:14.350766Z"
    },
    "papermill": {
     "duration": 38.290413,
     "end_time": "2021-06-03T23:04:40.335035",
     "exception": false,
     "start_time": "2021-06-03T23:04:02.044622",
     "status": "completed"
    },
    "tags": []
   },
   "outputs": [],
   "source": [
    "model = pipeline.fit(X, y)\n",
    "y_pred = model.predict(X_test)"
   ]
  },
  {
   "cell_type": "code",
   "execution_count": 43,
   "id": "desperate-convention",
   "metadata": {
    "execution": {
     "iopub.execute_input": "2021-06-03T23:04:40.431602Z",
     "iopub.status.busy": "2021-06-03T23:04:40.431063Z",
     "iopub.status.idle": "2021-06-03T23:04:40.439831Z",
     "shell.execute_reply": "2021-06-03T23:04:40.440313Z",
     "shell.execute_reply.started": "2021-05-20T22:23:04.114939Z"
    },
    "papermill": {
     "duration": 0.058082,
     "end_time": "2021-06-03T23:04:40.440459",
     "exception": false,
     "start_time": "2021-06-03T23:04:40.382377",
     "status": "completed"
    },
    "tags": []
   },
   "outputs": [
    {
     "data": {
      "text/plain": [
       "84.86900301004243"
      ]
     },
     "execution_count": 43,
     "metadata": {},
     "output_type": "execute_result"
    }
   ],
   "source": [
    "my_smape(y_test, y_pred)"
   ]
  },
  {
   "cell_type": "markdown",
   "id": "stupid-overhead",
   "metadata": {
    "papermill": {
     "duration": 0.046683,
     "end_time": "2021-06-03T23:04:40.534015",
     "exception": false,
     "start_time": "2021-06-03T23:04:40.487332",
     "status": "completed"
    },
    "tags": []
   },
   "source": [
    "# Make a prediction"
   ]
  },
  {
   "cell_type": "code",
   "execution_count": 44,
   "id": "liberal-death",
   "metadata": {
    "execution": {
     "iopub.execute_input": "2021-06-03T23:04:40.837588Z",
     "iopub.status.busy": "2021-06-03T23:04:40.837089Z",
     "iopub.status.idle": "2021-06-03T23:04:41.013245Z",
     "shell.execute_reply": "2021-06-03T23:04:41.013724Z",
     "shell.execute_reply.started": "2021-05-20T22:25:21.683096Z"
    },
    "papermill": {
     "duration": 0.228949,
     "end_time": "2021-06-03T23:04:41.013896",
     "exception": false,
     "start_time": "2021-06-03T23:04:40.784947",
     "status": "completed"
    },
    "tags": []
   },
   "outputs": [],
   "source": [
    "y_flags = model_flags.predict(df_test)\n",
    "df_test[\"flags\"] = y_flags"
   ]
  },
  {
   "cell_type": "code",
   "execution_count": 45,
   "id": "rolled-certificate",
   "metadata": {
    "execution": {
     "iopub.execute_input": "2021-06-03T23:04:41.125111Z",
     "iopub.status.busy": "2021-06-03T23:04:41.124258Z",
     "iopub.status.idle": "2021-06-03T23:04:41.127720Z",
     "shell.execute_reply": "2021-06-03T23:04:41.128166Z",
     "shell.execute_reply.started": "2021-05-20T22:18:26.947249Z"
    },
    "papermill": {
     "duration": 0.066341,
     "end_time": "2021-06-03T23:04:41.128314",
     "exception": false,
     "start_time": "2021-06-03T23:04:41.061973",
     "status": "completed"
    },
    "tags": []
   },
   "outputs": [
    {
     "data": {
      "text/html": [
       "<div>\n",
       "<style scoped>\n",
       "    .dataframe tbody tr th:only-of-type {\n",
       "        vertical-align: middle;\n",
       "    }\n",
       "\n",
       "    .dataframe tbody tr th {\n",
       "        vertical-align: top;\n",
       "    }\n",
       "\n",
       "    .dataframe thead th {\n",
       "        text-align: right;\n",
       "    }\n",
       "</style>\n",
       "<table border=\"1\" class=\"dataframe\">\n",
       "  <thead>\n",
       "    <tr style=\"text-align: right;\">\n",
       "      <th></th>\n",
       "      <th>Unnamed: 0</th>\n",
       "      <th>index</th>\n",
       "      <th>product_rk</th>\n",
       "      <th>store_location_rk</th>\n",
       "      <th>PRODUCT_ID</th>\n",
       "      <th>STORE_LOCATION_ID</th>\n",
       "      <th>PROMO1_FLAG</th>\n",
       "      <th>PROMO2_FLAG</th>\n",
       "      <th>PRICE_REGULAR</th>\n",
       "      <th>PRICE_AFTER_DISC</th>\n",
       "      <th>NUM_CONSULTANT</th>\n",
       "      <th>AUTORIZATION_FLAG</th>\n",
       "      <th>day</th>\n",
       "      <th>weekday</th>\n",
       "      <th>year</th>\n",
       "      <th>month</th>\n",
       "      <th>dayofyear</th>\n",
       "      <th>flags</th>\n",
       "    </tr>\n",
       "  </thead>\n",
       "  <tbody>\n",
       "    <tr>\n",
       "      <th>817</th>\n",
       "      <td>902</td>\n",
       "      <td>902</td>\n",
       "      <td>19544</td>\n",
       "      <td>1363</td>\n",
       "      <td>19544</td>\n",
       "      <td>1363.0</td>\n",
       "      <td>1.0</td>\n",
       "      <td>0.0</td>\n",
       "      <td>2999.0</td>\n",
       "      <td>899.700000</td>\n",
       "      <td>0.0</td>\n",
       "      <td>1.0</td>\n",
       "      <td>4</td>\n",
       "      <td>0</td>\n",
       "      <td>2019</td>\n",
       "      <td>11</td>\n",
       "      <td>308</td>\n",
       "      <td>1</td>\n",
       "    </tr>\n",
       "    <tr>\n",
       "      <th>1039</th>\n",
       "      <td>1163</td>\n",
       "      <td>1163</td>\n",
       "      <td>19545</td>\n",
       "      <td>1380</td>\n",
       "      <td>19545</td>\n",
       "      <td>1380.0</td>\n",
       "      <td>1.0</td>\n",
       "      <td>0.0</td>\n",
       "      <td>2999.0</td>\n",
       "      <td>2142.142857</td>\n",
       "      <td>0.0</td>\n",
       "      <td>1.0</td>\n",
       "      <td>4</td>\n",
       "      <td>0</td>\n",
       "      <td>2019</td>\n",
       "      <td>11</td>\n",
       "      <td>308</td>\n",
       "      <td>1</td>\n",
       "    </tr>\n",
       "    <tr>\n",
       "      <th>1043</th>\n",
       "      <td>1167</td>\n",
       "      <td>1167</td>\n",
       "      <td>19545</td>\n",
       "      <td>1380</td>\n",
       "      <td>19545</td>\n",
       "      <td>1380.0</td>\n",
       "      <td>1.0</td>\n",
       "      <td>0.0</td>\n",
       "      <td>2999.0</td>\n",
       "      <td>1499.500000</td>\n",
       "      <td>0.0</td>\n",
       "      <td>1.0</td>\n",
       "      <td>18</td>\n",
       "      <td>0</td>\n",
       "      <td>2019</td>\n",
       "      <td>11</td>\n",
       "      <td>322</td>\n",
       "      <td>1</td>\n",
       "    </tr>\n",
       "  </tbody>\n",
       "</table>\n",
       "</div>"
      ],
      "text/plain": [
       "      Unnamed: 0  index  product_rk  store_location_rk  PRODUCT_ID  \\\n",
       "817          902    902       19544               1363       19544   \n",
       "1039        1163   1163       19545               1380       19545   \n",
       "1043        1167   1167       19545               1380       19545   \n",
       "\n",
       "      STORE_LOCATION_ID  PROMO1_FLAG  PROMO2_FLAG  PRICE_REGULAR  \\\n",
       "817              1363.0          1.0          0.0         2999.0   \n",
       "1039             1380.0          1.0          0.0         2999.0   \n",
       "1043             1380.0          1.0          0.0         2999.0   \n",
       "\n",
       "      PRICE_AFTER_DISC  NUM_CONSULTANT  AUTORIZATION_FLAG  day  weekday  year  \\\n",
       "817         899.700000             0.0                1.0    4        0  2019   \n",
       "1039       2142.142857             0.0                1.0    4        0  2019   \n",
       "1043       1499.500000             0.0                1.0   18        0  2019   \n",
       "\n",
       "      month  dayofyear  flags  \n",
       "817      11        308      1  \n",
       "1039     11        308      1  \n",
       "1043     11        322      1  "
      ]
     },
     "execution_count": 45,
     "metadata": {},
     "output_type": "execute_result"
    }
   ],
   "source": [
    "df_test.head(3)"
   ]
  },
  {
   "cell_type": "code",
   "execution_count": 46,
   "id": "sharp-diary",
   "metadata": {
    "execution": {
     "iopub.execute_input": "2021-06-03T23:04:41.227207Z",
     "iopub.status.busy": "2021-06-03T23:04:41.226380Z",
     "iopub.status.idle": "2021-06-03T23:04:41.369491Z",
     "shell.execute_reply": "2021-06-03T23:04:41.370086Z",
     "shell.execute_reply.started": "2021-05-20T22:25:25.923245Z"
    },
    "papermill": {
     "duration": 0.194021,
     "end_time": "2021-06-03T23:04:41.370260",
     "exception": false,
     "start_time": "2021-06-03T23:04:41.176239",
     "status": "completed"
    },
    "tags": []
   },
   "outputs": [],
   "source": [
    "y_preds = model.predict(df_test.drop(columns=\"flags\"))"
   ]
  },
  {
   "cell_type": "code",
   "execution_count": 47,
   "id": "persistent-broad",
   "metadata": {
    "execution": {
     "iopub.execute_input": "2021-06-03T23:04:41.469648Z",
     "iopub.status.busy": "2021-06-03T23:04:41.468792Z",
     "iopub.status.idle": "2021-06-03T23:04:41.473459Z",
     "shell.execute_reply": "2021-06-03T23:04:41.473010Z",
     "shell.execute_reply.started": "2021-05-20T22:25:29.991821Z"
    },
    "papermill": {
     "duration": 0.055123,
     "end_time": "2021-06-03T23:04:41.473594",
     "exception": false,
     "start_time": "2021-06-03T23:04:41.418471",
     "status": "completed"
    },
    "tags": []
   },
   "outputs": [],
   "source": [
    "df_test[\"demand\"] = y_preds"
   ]
  },
  {
   "cell_type": "code",
   "execution_count": 48,
   "id": "temporal-feelings",
   "metadata": {
    "execution": {
     "iopub.execute_input": "2021-06-03T23:04:41.574210Z",
     "iopub.status.busy": "2021-06-03T23:04:41.573492Z",
     "iopub.status.idle": "2021-06-03T23:04:41.577425Z",
     "shell.execute_reply": "2021-06-03T23:04:41.576912Z",
     "shell.execute_reply.started": "2021-05-20T22:25:30.387591Z"
    },
    "papermill": {
     "duration": 0.055981,
     "end_time": "2021-06-03T23:04:41.577581",
     "exception": false,
     "start_time": "2021-06-03T23:04:41.521600",
     "status": "completed"
    },
    "tags": []
   },
   "outputs": [],
   "source": [
    "#df_test.loc[df_test[\"flags\"] == 1, \"demand\"] = 0"
   ]
  },
  {
   "cell_type": "code",
   "execution_count": 49,
   "id": "minute-allocation",
   "metadata": {
    "execution": {
     "iopub.execute_input": "2021-06-03T23:04:41.677172Z",
     "iopub.status.busy": "2021-06-03T23:04:41.676603Z",
     "iopub.status.idle": "2021-06-03T23:04:41.679675Z",
     "shell.execute_reply": "2021-06-03T23:04:41.679150Z",
     "shell.execute_reply.started": "2021-05-20T22:26:16.76999Z"
    },
    "papermill": {
     "duration": 0.054093,
     "end_time": "2021-06-03T23:04:41.679796",
     "exception": false,
     "start_time": "2021-06-03T23:04:41.625703",
     "status": "completed"
    },
    "tags": []
   },
   "outputs": [],
   "source": [
    "#df_test.loc[df_test[\"flags\"] == 0, \"demand\"] = 1"
   ]
  },
  {
   "cell_type": "markdown",
   "id": "taken-agency",
   "metadata": {
    "papermill": {
     "duration": 0.047442,
     "end_time": "2021-06-03T23:04:42.014233",
     "exception": false,
     "start_time": "2021-06-03T23:04:41.966791",
     "status": "completed"
    },
    "tags": []
   },
   "source": [
    "Check results"
   ]
  },
  {
   "cell_type": "code",
   "execution_count": 50,
   "id": "curious-ground",
   "metadata": {
    "execution": {
     "iopub.execute_input": "2021-06-03T23:04:42.217695Z",
     "iopub.status.busy": "2021-06-03T23:04:42.216852Z",
     "iopub.status.idle": "2021-06-03T23:04:42.221137Z",
     "shell.execute_reply": "2021-06-03T23:04:42.220657Z",
     "shell.execute_reply.started": "2021-05-20T22:26:22.041177Z"
    },
    "papermill": {
     "duration": 0.057094,
     "end_time": "2021-06-03T23:04:42.221258",
     "exception": false,
     "start_time": "2021-06-03T23:04:42.164164",
     "status": "completed"
    },
    "tags": []
   },
   "outputs": [],
   "source": [
    "sub = df_test[[\"index\", \"demand\"]].copy()"
   ]
  },
  {
   "cell_type": "code",
   "execution_count": 51,
   "metadata": {},
   "outputs": [
    {
     "data": {
      "text/html": [
       "<div>\n",
       "<style scoped>\n",
       "    .dataframe tbody tr th:only-of-type {\n",
       "        vertical-align: middle;\n",
       "    }\n",
       "\n",
       "    .dataframe tbody tr th {\n",
       "        vertical-align: top;\n",
       "    }\n",
       "\n",
       "    .dataframe thead th {\n",
       "        text-align: right;\n",
       "    }\n",
       "</style>\n",
       "<table border=\"1\" class=\"dataframe\">\n",
       "  <thead>\n",
       "    <tr style=\"text-align: right;\">\n",
       "      <th></th>\n",
       "      <th>index</th>\n",
       "      <th>demand</th>\n",
       "    </tr>\n",
       "  </thead>\n",
       "  <tbody>\n",
       "    <tr>\n",
       "      <th>817</th>\n",
       "      <td>902</td>\n",
       "      <td>0.609794</td>\n",
       "    </tr>\n",
       "    <tr>\n",
       "      <th>1039</th>\n",
       "      <td>1163</td>\n",
       "      <td>0.656663</td>\n",
       "    </tr>\n",
       "    <tr>\n",
       "      <th>1043</th>\n",
       "      <td>1167</td>\n",
       "      <td>0.657309</td>\n",
       "    </tr>\n",
       "    <tr>\n",
       "      <th>1048</th>\n",
       "      <td>1172</td>\n",
       "      <td>0.648557</td>\n",
       "    </tr>\n",
       "    <tr>\n",
       "      <th>1065</th>\n",
       "      <td>1202</td>\n",
       "      <td>0.687834</td>\n",
       "    </tr>\n",
       "    <tr>\n",
       "      <th>...</th>\n",
       "      <td>...</td>\n",
       "      <td>...</td>\n",
       "    </tr>\n",
       "    <tr>\n",
       "      <th>193901</th>\n",
       "      <td>209593</td>\n",
       "      <td>0.406032</td>\n",
       "    </tr>\n",
       "    <tr>\n",
       "      <th>193902</th>\n",
       "      <td>209594</td>\n",
       "      <td>0.543910</td>\n",
       "    </tr>\n",
       "    <tr>\n",
       "      <th>193903</th>\n",
       "      <td>209595</td>\n",
       "      <td>0.520087</td>\n",
       "    </tr>\n",
       "    <tr>\n",
       "      <th>193904</th>\n",
       "      <td>209596</td>\n",
       "      <td>0.520087</td>\n",
       "    </tr>\n",
       "    <tr>\n",
       "      <th>193905</th>\n",
       "      <td>209597</td>\n",
       "      <td>0.522372</td>\n",
       "    </tr>\n",
       "  </tbody>\n",
       "</table>\n",
       "<p>528 rows × 2 columns</p>\n",
       "</div>"
      ],
      "text/plain": [
       "         index    demand\n",
       "817        902  0.609794\n",
       "1039      1163  0.656663\n",
       "1043      1167  0.657309\n",
       "1048      1172  0.648557\n",
       "1065      1202  0.687834\n",
       "...        ...       ...\n",
       "193901  209593  0.406032\n",
       "193902  209594  0.543910\n",
       "193903  209595  0.520087\n",
       "193904  209596  0.520087\n",
       "193905  209597  0.522372\n",
       "\n",
       "[528 rows x 2 columns]"
      ]
     },
     "execution_count": 51,
     "metadata": {},
     "output_type": "execute_result"
    }
   ],
   "source": [
    "sub"
   ]
  },
  {
   "cell_type": "code",
   "execution_count": 52,
   "id": "peripheral-cherry",
   "metadata": {
    "execution": {
     "iopub.execute_input": "2021-06-03T23:04:42.425285Z",
     "iopub.status.busy": "2021-06-03T23:04:42.424439Z",
     "iopub.status.idle": "2021-06-03T23:04:42.430591Z",
     "shell.execute_reply": "2021-06-03T23:04:42.430094Z",
     "shell.execute_reply.started": "2021-05-20T22:27:21.255711Z"
    },
    "papermill": {
     "duration": 0.058329,
     "end_time": "2021-06-03T23:04:42.430712",
     "exception": false,
     "start_time": "2021-06-03T23:04:42.372383",
     "status": "completed"
    },
    "tags": []
   },
   "outputs": [
    {
     "data": {
      "text/plain": [
       "0.194442    22\n",
       "0.447193    12\n",
       "0.458308    12\n",
       "0.197451    11\n",
       "0.455299     9\n",
       "            ..\n",
       "0.410304     1\n",
       "0.807887     1\n",
       "0.565438     1\n",
       "1.168142     1\n",
       "0.823297     1\n",
       "Name: demand, Length: 309, dtype: int64"
      ]
     },
     "execution_count": 52,
     "metadata": {},
     "output_type": "execute_result"
    }
   ],
   "source": [
    "sub.demand.value_counts()"
   ]
  },
  {
   "cell_type": "code",
   "execution_count": 53,
   "metadata": {},
   "outputs": [],
   "source": [
    "C = 0.28\n",
    "sub['demand'] = sub.demand.apply(lambda x: 0 if x < C else 1)"
   ]
  },
  {
   "cell_type": "code",
   "execution_count": 54,
   "metadata": {
    "execution": {
     "iopub.execute_input": "2021-06-03T23:04:42.425285Z",
     "iopub.status.busy": "2021-06-03T23:04:42.424439Z",
     "iopub.status.idle": "2021-06-03T23:04:42.430591Z",
     "shell.execute_reply": "2021-06-03T23:04:42.430094Z",
     "shell.execute_reply.started": "2021-05-20T22:27:21.255711Z"
    },
    "papermill": {
     "duration": 0.058329,
     "end_time": "2021-06-03T23:04:42.430712",
     "exception": false,
     "start_time": "2021-06-03T23:04:42.372383",
     "status": "completed"
    },
    "tags": []
   },
   "outputs": [
    {
     "data": {
      "text/plain": [
       "1    458\n",
       "0     70\n",
       "Name: demand, dtype: int64"
      ]
     },
     "execution_count": 54,
     "metadata": {},
     "output_type": "execute_result"
    }
   ],
   "source": [
    "sub.demand.value_counts()"
   ]
  },
  {
   "cell_type": "code",
   "execution_count": 55,
   "id": "confidential-guinea",
   "metadata": {
    "execution": {
     "iopub.execute_input": "2021-06-03T23:04:42.532234Z",
     "iopub.status.busy": "2021-06-03T23:04:42.531700Z",
     "iopub.status.idle": "2021-06-03T23:04:42.572237Z",
     "shell.execute_reply": "2021-06-03T23:04:42.571706Z",
     "shell.execute_reply.started": "2021-05-20T22:27:24.444097Z"
    },
    "papermill": {
     "duration": 0.093033,
     "end_time": "2021-06-03T23:04:42.572362",
     "exception": false,
     "start_time": "2021-06-03T23:04:42.479329",
     "status": "completed"
    },
    "tags": []
   },
   "outputs": [],
   "source": [
    "sub.to_csv(\"only_0_and_1_\" + str(C) + \".csv\", index=None)"
   ]
  },
  {
   "cell_type": "code",
   "execution_count": 56,
   "id": "undefined-transcription",
   "metadata": {
    "papermill": {
     "duration": 0.047623,
     "end_time": "2021-06-03T23:04:42.668538",
     "exception": false,
     "start_time": "2021-06-03T23:04:42.620915",
     "status": "completed"
    },
    "tags": []
   },
   "outputs": [
    {
     "data": {
      "text/html": [
       "<div>\n",
       "<style scoped>\n",
       "    .dataframe tbody tr th:only-of-type {\n",
       "        vertical-align: middle;\n",
       "    }\n",
       "\n",
       "    .dataframe tbody tr th {\n",
       "        vertical-align: top;\n",
       "    }\n",
       "\n",
       "    .dataframe thead th {\n",
       "        text-align: right;\n",
       "    }\n",
       "</style>\n",
       "<table border=\"1\" class=\"dataframe\">\n",
       "  <thead>\n",
       "    <tr style=\"text-align: right;\">\n",
       "      <th></th>\n",
       "      <th>Unnamed: 0</th>\n",
       "      <th>index</th>\n",
       "      <th>product_rk</th>\n",
       "      <th>store_location_rk</th>\n",
       "      <th>PRODUCT_ID</th>\n",
       "      <th>STORE_LOCATION_ID</th>\n",
       "      <th>PROMO1_FLAG</th>\n",
       "      <th>PROMO2_FLAG</th>\n",
       "      <th>PRICE_REGULAR</th>\n",
       "      <th>PRICE_AFTER_DISC</th>\n",
       "      <th>NUM_CONSULTANT</th>\n",
       "      <th>AUTORIZATION_FLAG</th>\n",
       "      <th>day</th>\n",
       "      <th>weekday</th>\n",
       "      <th>year</th>\n",
       "      <th>month</th>\n",
       "      <th>dayofyear</th>\n",
       "      <th>flags</th>\n",
       "      <th>demand</th>\n",
       "    </tr>\n",
       "  </thead>\n",
       "  <tbody>\n",
       "    <tr>\n",
       "      <th>817</th>\n",
       "      <td>902</td>\n",
       "      <td>902</td>\n",
       "      <td>19544</td>\n",
       "      <td>1363</td>\n",
       "      <td>19544</td>\n",
       "      <td>1363.0</td>\n",
       "      <td>1.0</td>\n",
       "      <td>0.0</td>\n",
       "      <td>2999.0</td>\n",
       "      <td>899.700000</td>\n",
       "      <td>0.0</td>\n",
       "      <td>1.0</td>\n",
       "      <td>4</td>\n",
       "      <td>0</td>\n",
       "      <td>2019</td>\n",
       "      <td>11</td>\n",
       "      <td>308</td>\n",
       "      <td>1</td>\n",
       "      <td>0.609794</td>\n",
       "    </tr>\n",
       "    <tr>\n",
       "      <th>1039</th>\n",
       "      <td>1163</td>\n",
       "      <td>1163</td>\n",
       "      <td>19545</td>\n",
       "      <td>1380</td>\n",
       "      <td>19545</td>\n",
       "      <td>1380.0</td>\n",
       "      <td>1.0</td>\n",
       "      <td>0.0</td>\n",
       "      <td>2999.0</td>\n",
       "      <td>2142.142857</td>\n",
       "      <td>0.0</td>\n",
       "      <td>1.0</td>\n",
       "      <td>4</td>\n",
       "      <td>0</td>\n",
       "      <td>2019</td>\n",
       "      <td>11</td>\n",
       "      <td>308</td>\n",
       "      <td>1</td>\n",
       "      <td>0.656663</td>\n",
       "    </tr>\n",
       "    <tr>\n",
       "      <th>1043</th>\n",
       "      <td>1167</td>\n",
       "      <td>1167</td>\n",
       "      <td>19545</td>\n",
       "      <td>1380</td>\n",
       "      <td>19545</td>\n",
       "      <td>1380.0</td>\n",
       "      <td>1.0</td>\n",
       "      <td>0.0</td>\n",
       "      <td>2999.0</td>\n",
       "      <td>1499.500000</td>\n",
       "      <td>0.0</td>\n",
       "      <td>1.0</td>\n",
       "      <td>18</td>\n",
       "      <td>0</td>\n",
       "      <td>2019</td>\n",
       "      <td>11</td>\n",
       "      <td>322</td>\n",
       "      <td>1</td>\n",
       "      <td>0.657309</td>\n",
       "    </tr>\n",
       "    <tr>\n",
       "      <th>1048</th>\n",
       "      <td>1172</td>\n",
       "      <td>1172</td>\n",
       "      <td>19545</td>\n",
       "      <td>1380</td>\n",
       "      <td>19545</td>\n",
       "      <td>1380.0</td>\n",
       "      <td>1.0</td>\n",
       "      <td>0.0</td>\n",
       "      <td>2999.0</td>\n",
       "      <td>1499.500000</td>\n",
       "      <td>0.0</td>\n",
       "      <td>1.0</td>\n",
       "      <td>25</td>\n",
       "      <td>0</td>\n",
       "      <td>2019</td>\n",
       "      <td>11</td>\n",
       "      <td>329</td>\n",
       "      <td>1</td>\n",
       "      <td>0.648557</td>\n",
       "    </tr>\n",
       "    <tr>\n",
       "      <th>1065</th>\n",
       "      <td>1202</td>\n",
       "      <td>1202</td>\n",
       "      <td>135955</td>\n",
       "      <td>1326</td>\n",
       "      <td>135955</td>\n",
       "      <td>1326.0</td>\n",
       "      <td>1.0</td>\n",
       "      <td>0.0</td>\n",
       "      <td>2999.0</td>\n",
       "      <td>1499.500000</td>\n",
       "      <td>4.0</td>\n",
       "      <td>1.0</td>\n",
       "      <td>4</td>\n",
       "      <td>0</td>\n",
       "      <td>2019</td>\n",
       "      <td>11</td>\n",
       "      <td>308</td>\n",
       "      <td>1</td>\n",
       "      <td>0.687834</td>\n",
       "    </tr>\n",
       "    <tr>\n",
       "      <th>...</th>\n",
       "      <td>...</td>\n",
       "      <td>...</td>\n",
       "      <td>...</td>\n",
       "      <td>...</td>\n",
       "      <td>...</td>\n",
       "      <td>...</td>\n",
       "      <td>...</td>\n",
       "      <td>...</td>\n",
       "      <td>...</td>\n",
       "      <td>...</td>\n",
       "      <td>...</td>\n",
       "      <td>...</td>\n",
       "      <td>...</td>\n",
       "      <td>...</td>\n",
       "      <td>...</td>\n",
       "      <td>...</td>\n",
       "      <td>...</td>\n",
       "      <td>...</td>\n",
       "      <td>...</td>\n",
       "    </tr>\n",
       "    <tr>\n",
       "      <th>193901</th>\n",
       "      <td>209593</td>\n",
       "      <td>209593</td>\n",
       "      <td>98432</td>\n",
       "      <td>1316</td>\n",
       "      <td>98432</td>\n",
       "      <td>1316.0</td>\n",
       "      <td>1.0</td>\n",
       "      <td>0.0</td>\n",
       "      <td>2049.0</td>\n",
       "      <td>1024.500000</td>\n",
       "      <td>0.0</td>\n",
       "      <td>1.0</td>\n",
       "      <td>25</td>\n",
       "      <td>0</td>\n",
       "      <td>2019</td>\n",
       "      <td>11</td>\n",
       "      <td>329</td>\n",
       "      <td>1</td>\n",
       "      <td>0.406032</td>\n",
       "    </tr>\n",
       "    <tr>\n",
       "      <th>193902</th>\n",
       "      <td>209594</td>\n",
       "      <td>209594</td>\n",
       "      <td>98445</td>\n",
       "      <td>1316</td>\n",
       "      <td>98445</td>\n",
       "      <td>1316.0</td>\n",
       "      <td>1.0</td>\n",
       "      <td>0.0</td>\n",
       "      <td>3299.0</td>\n",
       "      <td>989.700000</td>\n",
       "      <td>0.0</td>\n",
       "      <td>1.0</td>\n",
       "      <td>25</td>\n",
       "      <td>0</td>\n",
       "      <td>2019</td>\n",
       "      <td>11</td>\n",
       "      <td>329</td>\n",
       "      <td>1</td>\n",
       "      <td>0.543910</td>\n",
       "    </tr>\n",
       "    <tr>\n",
       "      <th>193903</th>\n",
       "      <td>209595</td>\n",
       "      <td>209595</td>\n",
       "      <td>98470</td>\n",
       "      <td>1316</td>\n",
       "      <td>98470</td>\n",
       "      <td>1316.0</td>\n",
       "      <td>1.0</td>\n",
       "      <td>0.0</td>\n",
       "      <td>3049.0</td>\n",
       "      <td>914.700000</td>\n",
       "      <td>0.0</td>\n",
       "      <td>1.0</td>\n",
       "      <td>25</td>\n",
       "      <td>0</td>\n",
       "      <td>2019</td>\n",
       "      <td>11</td>\n",
       "      <td>329</td>\n",
       "      <td>1</td>\n",
       "      <td>0.520087</td>\n",
       "    </tr>\n",
       "    <tr>\n",
       "      <th>193904</th>\n",
       "      <td>209596</td>\n",
       "      <td>209596</td>\n",
       "      <td>98475</td>\n",
       "      <td>1316</td>\n",
       "      <td>98475</td>\n",
       "      <td>1316.0</td>\n",
       "      <td>1.0</td>\n",
       "      <td>0.0</td>\n",
       "      <td>3049.0</td>\n",
       "      <td>914.700000</td>\n",
       "      <td>0.0</td>\n",
       "      <td>1.0</td>\n",
       "      <td>25</td>\n",
       "      <td>0</td>\n",
       "      <td>2019</td>\n",
       "      <td>11</td>\n",
       "      <td>329</td>\n",
       "      <td>1</td>\n",
       "      <td>0.520087</td>\n",
       "    </tr>\n",
       "    <tr>\n",
       "      <th>193905</th>\n",
       "      <td>209597</td>\n",
       "      <td>209597</td>\n",
       "      <td>98526</td>\n",
       "      <td>1316</td>\n",
       "      <td>98526</td>\n",
       "      <td>1316.0</td>\n",
       "      <td>1.0</td>\n",
       "      <td>0.0</td>\n",
       "      <td>2699.0</td>\n",
       "      <td>809.700000</td>\n",
       "      <td>0.0</td>\n",
       "      <td>1.0</td>\n",
       "      <td>25</td>\n",
       "      <td>0</td>\n",
       "      <td>2019</td>\n",
       "      <td>11</td>\n",
       "      <td>329</td>\n",
       "      <td>1</td>\n",
       "      <td>0.522372</td>\n",
       "    </tr>\n",
       "  </tbody>\n",
       "</table>\n",
       "<p>528 rows × 19 columns</p>\n",
       "</div>"
      ],
      "text/plain": [
       "        Unnamed: 0   index  product_rk  store_location_rk  PRODUCT_ID  \\\n",
       "817            902     902       19544               1363       19544   \n",
       "1039          1163    1163       19545               1380       19545   \n",
       "1043          1167    1167       19545               1380       19545   \n",
       "1048          1172    1172       19545               1380       19545   \n",
       "1065          1202    1202      135955               1326      135955   \n",
       "...            ...     ...         ...                ...         ...   \n",
       "193901      209593  209593       98432               1316       98432   \n",
       "193902      209594  209594       98445               1316       98445   \n",
       "193903      209595  209595       98470               1316       98470   \n",
       "193904      209596  209596       98475               1316       98475   \n",
       "193905      209597  209597       98526               1316       98526   \n",
       "\n",
       "        STORE_LOCATION_ID  PROMO1_FLAG  PROMO2_FLAG  PRICE_REGULAR  \\\n",
       "817                1363.0          1.0          0.0         2999.0   \n",
       "1039               1380.0          1.0          0.0         2999.0   \n",
       "1043               1380.0          1.0          0.0         2999.0   \n",
       "1048               1380.0          1.0          0.0         2999.0   \n",
       "1065               1326.0          1.0          0.0         2999.0   \n",
       "...                   ...          ...          ...            ...   \n",
       "193901             1316.0          1.0          0.0         2049.0   \n",
       "193902             1316.0          1.0          0.0         3299.0   \n",
       "193903             1316.0          1.0          0.0         3049.0   \n",
       "193904             1316.0          1.0          0.0         3049.0   \n",
       "193905             1316.0          1.0          0.0         2699.0   \n",
       "\n",
       "        PRICE_AFTER_DISC  NUM_CONSULTANT  AUTORIZATION_FLAG  day  weekday  \\\n",
       "817           899.700000             0.0                1.0    4        0   \n",
       "1039         2142.142857             0.0                1.0    4        0   \n",
       "1043         1499.500000             0.0                1.0   18        0   \n",
       "1048         1499.500000             0.0                1.0   25        0   \n",
       "1065         1499.500000             4.0                1.0    4        0   \n",
       "...                  ...             ...                ...  ...      ...   \n",
       "193901       1024.500000             0.0                1.0   25        0   \n",
       "193902        989.700000             0.0                1.0   25        0   \n",
       "193903        914.700000             0.0                1.0   25        0   \n",
       "193904        914.700000             0.0                1.0   25        0   \n",
       "193905        809.700000             0.0                1.0   25        0   \n",
       "\n",
       "        year  month  dayofyear  flags    demand  \n",
       "817     2019     11        308      1  0.609794  \n",
       "1039    2019     11        308      1  0.656663  \n",
       "1043    2019     11        322      1  0.657309  \n",
       "1048    2019     11        329      1  0.648557  \n",
       "1065    2019     11        308      1  0.687834  \n",
       "...      ...    ...        ...    ...       ...  \n",
       "193901  2019     11        329      1  0.406032  \n",
       "193902  2019     11        329      1  0.543910  \n",
       "193903  2019     11        329      1  0.520087  \n",
       "193904  2019     11        329      1  0.520087  \n",
       "193905  2019     11        329      1  0.522372  \n",
       "\n",
       "[528 rows x 19 columns]"
      ]
     },
     "execution_count": 56,
     "metadata": {},
     "output_type": "execute_result"
    }
   ],
   "source": [
    "df_test"
   ]
  },
  {
   "cell_type": "code",
   "execution_count": 57,
   "metadata": {},
   "outputs": [
    {
     "data": {
      "text/html": [
       "<div>\n",
       "<style scoped>\n",
       "    .dataframe tbody tr th:only-of-type {\n",
       "        vertical-align: middle;\n",
       "    }\n",
       "\n",
       "    .dataframe tbody tr th {\n",
       "        vertical-align: top;\n",
       "    }\n",
       "\n",
       "    .dataframe thead th {\n",
       "        text-align: right;\n",
       "    }\n",
       "</style>\n",
       "<table border=\"1\" class=\"dataframe\">\n",
       "  <thead>\n",
       "    <tr style=\"text-align: right;\">\n",
       "      <th></th>\n",
       "      <th>index</th>\n",
       "      <th>demand</th>\n",
       "    </tr>\n",
       "  </thead>\n",
       "  <tbody>\n",
       "    <tr>\n",
       "      <th>817</th>\n",
       "      <td>902</td>\n",
       "      <td>1</td>\n",
       "    </tr>\n",
       "    <tr>\n",
       "      <th>1039</th>\n",
       "      <td>1163</td>\n",
       "      <td>1</td>\n",
       "    </tr>\n",
       "    <tr>\n",
       "      <th>1043</th>\n",
       "      <td>1167</td>\n",
       "      <td>1</td>\n",
       "    </tr>\n",
       "    <tr>\n",
       "      <th>1048</th>\n",
       "      <td>1172</td>\n",
       "      <td>1</td>\n",
       "    </tr>\n",
       "    <tr>\n",
       "      <th>1065</th>\n",
       "      <td>1202</td>\n",
       "      <td>1</td>\n",
       "    </tr>\n",
       "    <tr>\n",
       "      <th>...</th>\n",
       "      <td>...</td>\n",
       "      <td>...</td>\n",
       "    </tr>\n",
       "    <tr>\n",
       "      <th>193901</th>\n",
       "      <td>209593</td>\n",
       "      <td>1</td>\n",
       "    </tr>\n",
       "    <tr>\n",
       "      <th>193902</th>\n",
       "      <td>209594</td>\n",
       "      <td>1</td>\n",
       "    </tr>\n",
       "    <tr>\n",
       "      <th>193903</th>\n",
       "      <td>209595</td>\n",
       "      <td>1</td>\n",
       "    </tr>\n",
       "    <tr>\n",
       "      <th>193904</th>\n",
       "      <td>209596</td>\n",
       "      <td>1</td>\n",
       "    </tr>\n",
       "    <tr>\n",
       "      <th>193905</th>\n",
       "      <td>209597</td>\n",
       "      <td>1</td>\n",
       "    </tr>\n",
       "  </tbody>\n",
       "</table>\n",
       "<p>528 rows × 2 columns</p>\n",
       "</div>"
      ],
      "text/plain": [
       "         index  demand\n",
       "817        902       1\n",
       "1039      1163       1\n",
       "1043      1167       1\n",
       "1048      1172       1\n",
       "1065      1202       1\n",
       "...        ...     ...\n",
       "193901  209593       1\n",
       "193902  209594       1\n",
       "193903  209595       1\n",
       "193904  209596       1\n",
       "193905  209597       1\n",
       "\n",
       "[528 rows x 2 columns]"
      ]
     },
     "execution_count": 57,
     "metadata": {},
     "output_type": "execute_result"
    }
   ],
   "source": [
    "sub"
   ]
  },
  {
   "cell_type": "code",
   "execution_count": 58,
   "metadata": {},
   "outputs": [
    {
     "data": {
      "image/png": "[encoded data removed]",
      "text/plain": [
       "<Figure size 432x288 with 1 Axes>"
      ]
     },
     "metadata": {
      "needs_background": "light"
     },
     "output_type": "display_data"
    }
   ],
   "source": [
    "hist = plt.hist((sub.demand.values), bins=100)\n",
    "plt.show()"
   ]
  }
 ],
 "metadata": {
  "kernelspec": {
   "display_name": "Python 3",
   "language": "python",
   "name": "python3"
  },
  "language_info": {
   "codemirror_mode": {
    "name": "ipython",
    "version": 3
   },
   "file_extension": ".py",
   "mimetype": "text/x-python",
   "name": "python",
   "nbconvert_exporter": "python",
   "pygments_lexer": "ipython3",
   "version": "3.8.1"
  },
  "papermill": {
   "default_parameters": {},
   "duration": 132.895682,
   "end_time": "2021-06-03T23:04:44.719032",
   "environment_variables": {},
   "exception": null,
   "input_path": "__notebook__.ipynb",
   "output_path": "__notebook__.ipynb",
   "parameters": {},
   "start_time": "2021-06-03T23:02:31.823350",
   "version": "2.3.3"
  }
 },
 "nbformat": 4,
 "nbformat_minor": 5
}
