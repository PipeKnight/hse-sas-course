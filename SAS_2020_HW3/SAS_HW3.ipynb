{
 "cells": [
  {
   "cell_type": "markdown",
   "metadata": {},
   "source": [
    "# Домашнее задание 3, Лупашин Евгений, БПМИ184"
   ]
  },
  {
   "cell_type": "markdown",
   "metadata": {},
   "source": [
    "## 0. Чтение данных"
   ]
  },
  {
   "cell_type": "code",
   "execution_count": 1,
   "metadata": {},
   "outputs": [
    {
     "name": "stdout",
     "output_type": "stream",
     "text": [
      "Requirement already satisfied: category-encoders in c:\\users\\pipek\\downloads\\wpy64-3810\\python-3.8.1.amd64\\lib\\site-packages (2.2.2)\n",
      "Requirement already satisfied: numpy>=1.14.0 in c:\\users\\pipek\\downloads\\wpy64-3810\\python-3.8.1.amd64\\lib\\site-packages (from category-encoders) (1.17.4+mkl)\n",
      "Requirement already satisfied: scikit-learn>=0.20.0 in c:\\users\\pipek\\downloads\\wpy64-3810\\python-3.8.1.amd64\\lib\\site-packages (from category-encoders) (0.22)\n",
      "Requirement already satisfied: statsmodels>=0.9.0 in c:\\users\\pipek\\downloads\\wpy64-3810\\python-3.8.1.amd64\\lib\\site-packages (from category-encoders) (0.10.2)\n",
      "Requirement already satisfied: patsy>=0.5.1 in c:\\users\\pipek\\downloads\\wpy64-3810\\python-3.8.1.amd64\\lib\\site-packages (from category-encoders) (0.5.1)\n",
      "Requirement already satisfied: scipy>=1.0.0 in c:\\users\\pipek\\downloads\\wpy64-3810\\python-3.8.1.amd64\\lib\\site-packages (from category-encoders) (1.4.1)\n",
      "Requirement already satisfied: pandas>=0.21.1 in c:\\users\\pipek\\downloads\\wpy64-3810\\python-3.8.1.amd64\\lib\\site-packages (from category-encoders) (1.2.3)\n",
      "Requirement already satisfied: python-dateutil>=2.7.3 in c:\\users\\pipek\\downloads\\wpy64-3810\\python-3.8.1.amd64\\lib\\site-packages (from pandas>=0.21.1->category-encoders) (2.8.1)\n",
      "Requirement already satisfied: pytz>=2017.3 in c:\\users\\pipek\\downloads\\wpy64-3810\\python-3.8.1.amd64\\lib\\site-packages (from pandas>=0.21.1->category-encoders) (2019.3)\n",
      "Requirement already satisfied: six in c:\\users\\pipek\\downloads\\wpy64-3810\\python-3.8.1.amd64\\lib\\site-packages (from patsy>=0.5.1->category-encoders) (1.13.0)\n",
      "Requirement already satisfied: joblib>=0.11 in c:\\users\\pipek\\downloads\\wpy64-3810\\python-3.8.1.amd64\\lib\\site-packages (from scikit-learn>=0.20.0->category-encoders) (0.14.1)\n",
      "Requirement already satisfied: sweetviz in c:\\users\\pipek\\downloads\\wpy64-3810\\python-3.8.1.amd64\\lib\\site-packages (2.0.9)\n",
      "Requirement already satisfied: matplotlib>=3.1.3 in c:\\users\\pipek\\downloads\\wpy64-3810\\python-3.8.1.amd64\\lib\\site-packages (from sweetviz) (3.2.0rc2)\n",
      "Requirement already satisfied: jinja2>=2.11.1 in c:\\users\\pipek\\downloads\\wpy64-3810\\python-3.8.1.amd64\\lib\\site-packages (from sweetviz) (2.11.3)\n",
      "Requirement already satisfied: importlib-resources>=1.2.0 in c:\\users\\pipek\\downloads\\wpy64-3810\\python-3.8.1.amd64\\lib\\site-packages (from sweetviz) (5.1.2)\n",
      "Requirement already satisfied: numpy>=1.16.0 in c:\\users\\pipek\\downloads\\wpy64-3810\\python-3.8.1.amd64\\lib\\site-packages (from sweetviz) (1.17.4+mkl)\n",
      "Requirement already satisfied: scipy>=1.3.2 in c:\\users\\pipek\\downloads\\wpy64-3810\\python-3.8.1.amd64\\lib\\site-packages (from sweetviz) (1.4.1)\n",
      "Requirement already satisfied: tqdm>=4.43.0 in c:\\users\\pipek\\downloads\\wpy64-3810\\python-3.8.1.amd64\\lib\\site-packages (from sweetviz) (4.59.0)\n",
      "Requirement already satisfied: pandas!=1.0.0,!=1.0.1,!=1.0.2,>=0.25.3 in c:\\users\\pipek\\downloads\\wpy64-3810\\python-3.8.1.amd64\\lib\\site-packages (from sweetviz) (1.2.3)\n",
      "Requirement already satisfied: MarkupSafe>=0.23 in c:\\users\\pipek\\downloads\\wpy64-3810\\python-3.8.1.amd64\\lib\\site-packages (from jinja2>=2.11.1->sweetviz) (1.1.1)\n",
      "Requirement already satisfied: pyparsing!=2.0.4,!=2.1.2,!=2.1.6,>=2.0.1 in c:\\users\\pipek\\downloads\\wpy64-3810\\python-3.8.1.amd64\\lib\\site-packages (from matplotlib>=3.1.3->sweetviz) (2.4.5)\n",
      "Requirement already satisfied: kiwisolver>=1.0.1 in c:\\users\\pipek\\downloads\\wpy64-3810\\python-3.8.1.amd64\\lib\\site-packages (from matplotlib>=3.1.3->sweetviz) (1.1.0)\n",
      "Requirement already satisfied: python-dateutil>=2.1 in c:\\users\\pipek\\downloads\\wpy64-3810\\python-3.8.1.amd64\\lib\\site-packages (from matplotlib>=3.1.3->sweetviz) (2.8.1)\n",
      "Requirement already satisfied: cycler>=0.10 in c:\\users\\pipek\\downloads\\wpy64-3810\\python-3.8.1.amd64\\lib\\site-packages (from matplotlib>=3.1.3->sweetviz) (0.10.0)\n",
      "Requirement already satisfied: six in c:\\users\\pipek\\downloads\\wpy64-3810\\python-3.8.1.amd64\\lib\\site-packages (from cycler>=0.10->matplotlib>=3.1.3->sweetviz) (1.13.0)\n",
      "Requirement already satisfied: setuptools in c:\\users\\pipek\\downloads\\wpy64-3810\\python-3.8.1.amd64\\lib\\site-packages (from kiwisolver>=1.0.1->matplotlib>=3.1.3->sweetviz) (42.0.2)\n",
      "Requirement already satisfied: pytz>=2017.3 in c:\\users\\pipek\\downloads\\wpy64-3810\\python-3.8.1.amd64\\lib\\site-packages (from pandas!=1.0.0,!=1.0.1,!=1.0.2,>=0.25.3->sweetviz) (2019.3)\n",
      "Requirement already satisfied: dtale in c:\\users\\pipek\\downloads\\wpy64-3810\\python-3.8.1.amd64\\lib\\site-packages (1.40.1)\n",
      "Requirement already satisfied: dash-colorscales in c:\\users\\pipek\\downloads\\wpy64-3810\\python-3.8.1.amd64\\lib\\site-packages (from dtale) (0.0.4)\n",
      "Requirement already satisfied: plotly>=4.9.0 in c:\\users\\pipek\\downloads\\wpy64-3810\\python-3.8.1.amd64\\lib\\site-packages (from dtale) (4.14.3)\n",
      "Requirement already satisfied: kaleido in c:\\users\\pipek\\downloads\\wpy64-3810\\python-3.8.1.amd64\\lib\\site-packages (from dtale) (0.2.1)\n",
      "Requirement already satisfied: dash-bootstrap-components in c:\\users\\pipek\\downloads\\wpy64-3810\\python-3.8.1.amd64\\lib\\site-packages (from dtale) (0.11.3)\n",
      "Requirement already satisfied: pandas in c:\\users\\pipek\\downloads\\wpy64-3810\\python-3.8.1.amd64\\lib\\site-packages (from dtale) (1.2.3)\n",
      "Requirement already satisfied: xarray in c:\\users\\pipek\\downloads\\wpy64-3810\\python-3.8.1.amd64\\lib\\site-packages (from dtale) (0.14.1)\n",
      "Requirement already satisfied: future>=0.14.0 in c:\\users\\pipek\\downloads\\wpy64-3810\\python-3.8.1.amd64\\lib\\site-packages (from dtale) (0.18.2)\n",
      "Requirement already satisfied: xlrd in c:\\users\\pipek\\downloads\\wpy64-3810\\python-3.8.1.amd64\\lib\\site-packages (from dtale) (1.2.0)\n",
      "Requirement already satisfied: Flask>=1.0 in c:\\users\\pipek\\downloads\\wpy64-3810\\python-3.8.1.amd64\\lib\\site-packages (from dtale) (1.1.1)\n",
      "Requirement already satisfied: requests in c:\\users\\pipek\\downloads\\wpy64-3810\\python-3.8.1.amd64\\lib\\site-packages (from dtale) (2.22.0)\n",
      "Requirement already satisfied: dash>=1.5.0 in c:\\users\\pipek\\downloads\\wpy64-3810\\python-3.8.1.amd64\\lib\\site-packages (from dtale) (1.19.0)\n",
      "Requirement already satisfied: flask-ngrok in c:\\users\\pipek\\downloads\\wpy64-3810\\python-3.8.1.amd64\\lib\\site-packages (from dtale) (0.0.25)\n",
      "Requirement already satisfied: scikit-learn in c:\\users\\pipek\\downloads\\wpy64-3810\\python-3.8.1.amd64\\lib\\site-packages (from dtale) (0.22)\n",
      "Requirement already satisfied: ppscore in c:\\users\\pipek\\downloads\\wpy64-3810\\python-3.8.1.amd64\\lib\\site-packages (from dtale) (1.2.0)\n",
      "Requirement already satisfied: scipy in c:\\users\\pipek\\downloads\\wpy64-3810\\python-3.8.1.amd64\\lib\\site-packages (from dtale) (1.4.1)\n",
      "Requirement already satisfied: six in c:\\users\\pipek\\downloads\\wpy64-3810\\python-3.8.1.amd64\\lib\\site-packages (from dtale) (1.13.0)\n",
      "Requirement already satisfied: strsimpy in c:\\users\\pipek\\downloads\\wpy64-3810\\python-3.8.1.amd64\\lib\\site-packages (from dtale) (0.2.0)\n",
      "Requirement already satisfied: squarify in c:\\users\\pipek\\downloads\\wpy64-3810\\python-3.8.1.amd64\\lib\\site-packages (from dtale) (0.4.3)\n",
      "Requirement already satisfied: networkx in c:\\users\\pipek\\downloads\\wpy64-3810\\python-3.8.1.amd64\\lib\\site-packages (from dtale) (2.4)\n",
      "Requirement already satisfied: dash-daq in c:\\users\\pipek\\downloads\\wpy64-3810\\python-3.8.1.amd64\\lib\\site-packages (from dtale) (0.5.0)\n",
      "Requirement already satisfied: itsdangerous in c:\\users\\pipek\\downloads\\wpy64-3810\\python-3.8.1.amd64\\lib\\site-packages (from dtale) (1.1.0)\n",
      "Requirement already satisfied: lz4 in c:\\users\\pipek\\downloads\\wpy64-3810\\python-3.8.1.amd64\\lib\\site-packages (from dtale) (3.1.3)\n",
      "Requirement already satisfied: Flask-Compress in c:\\users\\pipek\\downloads\\wpy64-3810\\python-3.8.1.amd64\\lib\\site-packages (from dtale) (1.9.0)\n",
      "Requirement already satisfied: statsmodels in c:\\users\\pipek\\downloads\\wpy64-3810\\python-3.8.1.amd64\\lib\\site-packages (from dtale) (0.10.2)\n",
      "Requirement already satisfied: openpyxl in c:\\users\\pipek\\downloads\\wpy64-3810\\python-3.8.1.amd64\\lib\\site-packages (from dtale) (3.0.7)\n",
      "Requirement already satisfied: dash-html-components==1.1.2 in c:\\users\\pipek\\downloads\\wpy64-3810\\python-3.8.1.amd64\\lib\\site-packages (from dash>=1.5.0->dtale) (1.1.2)\n",
      "Requirement already satisfied: dash-table==4.11.2 in c:\\users\\pipek\\downloads\\wpy64-3810\\python-3.8.1.amd64\\lib\\site-packages (from dash>=1.5.0->dtale) (4.11.2)\n",
      "Requirement already satisfied: dash-renderer==1.9.0 in c:\\users\\pipek\\downloads\\wpy64-3810\\python-3.8.1.amd64\\lib\\site-packages (from dash>=1.5.0->dtale) (1.9.0)\n",
      "Requirement already satisfied: dash-core-components==1.15.0 in c:\\users\\pipek\\downloads\\wpy64-3810\\python-3.8.1.amd64\\lib\\site-packages (from dash>=1.5.0->dtale) (1.15.0)\n",
      "Requirement already satisfied: click>=5.1 in c:\\users\\pipek\\downloads\\wpy64-3810\\python-3.8.1.amd64\\lib\\site-packages (from Flask>=1.0->dtale) (7.0)\n",
      "Requirement already satisfied: Werkzeug>=0.15 in c:\\users\\pipek\\downloads\\wpy64-3810\\python-3.8.1.amd64\\lib\\site-packages (from Flask>=1.0->dtale) (0.16.0)\n",
      "Requirement already satisfied: Jinja2>=2.10.1 in c:\\users\\pipek\\downloads\\wpy64-3810\\python-3.8.1.amd64\\lib\\site-packages (from Flask>=1.0->dtale) (2.11.3)\n",
      "Requirement already satisfied: MarkupSafe>=0.23 in c:\\users\\pipek\\downloads\\wpy64-3810\\python-3.8.1.amd64\\lib\\site-packages (from Jinja2>=2.10.1->Flask>=1.0->dtale) (1.1.1)\n",
      "Requirement already satisfied: retrying>=1.3.3 in c:\\users\\pipek\\downloads\\wpy64-3810\\python-3.8.1.amd64\\lib\\site-packages (from plotly>=4.9.0->dtale) (1.3.3)\n",
      "Requirement already satisfied: brotli in c:\\users\\pipek\\downloads\\wpy64-3810\\python-3.8.1.amd64\\lib\\site-packages (from Flask-Compress->dtale) (1.0.7)\n",
      "Requirement already satisfied: decorator>=4.3.0 in c:\\users\\pipek\\downloads\\wpy64-3810\\python-3.8.1.amd64\\lib\\site-packages (from networkx->dtale) (4.4.1)\n",
      "Requirement already satisfied: et-xmlfile in c:\\users\\pipek\\downloads\\wpy64-3810\\python-3.8.1.amd64\\lib\\site-packages (from openpyxl->dtale) (1.0.1)\n",
      "Requirement already satisfied: python-dateutil>=2.7.3 in c:\\users\\pipek\\downloads\\wpy64-3810\\python-3.8.1.amd64\\lib\\site-packages (from pandas->dtale) (2.8.1)\n",
      "Requirement already satisfied: numpy>=1.16.5 in c:\\users\\pipek\\downloads\\wpy64-3810\\python-3.8.1.amd64\\lib\\site-packages (from pandas->dtale) (1.17.4+mkl)\n",
      "Requirement already satisfied: pytz>=2017.3 in c:\\users\\pipek\\downloads\\wpy64-3810\\python-3.8.1.amd64\\lib\\site-packages (from pandas->dtale) (2019.3)\n",
      "Requirement already satisfied: joblib>=0.11 in c:\\users\\pipek\\downloads\\wpy64-3810\\python-3.8.1.amd64\\lib\\site-packages (from scikit-learn->dtale) (0.14.1)\n",
      "Requirement already satisfied: chardet in c:\\users\\pipek\\downloads\\wpy64-3810\\python-3.8.1.amd64\\lib\\site-packages (from requests->dtale) (3.0.4)\n",
      "Requirement already satisfied: certifi in c:\\users\\pipek\\downloads\\wpy64-3810\\python-3.8.1.amd64\\lib\\site-packages (from requests->dtale) (2019.11.28)\n",
      "Requirement already satisfied: urllib3 in c:\\users\\pipek\\downloads\\wpy64-3810\\python-3.8.1.amd64\\lib\\site-packages (from requests->dtale) (1.25.7)\n",
      "Requirement already satisfied: idna in c:\\users\\pipek\\downloads\\wpy64-3810\\python-3.8.1.amd64\\lib\\site-packages (from requests->dtale) (2.8)\n",
      "Requirement already satisfied: patsy>=0.4.0 in c:\\users\\pipek\\downloads\\wpy64-3810\\python-3.8.1.amd64\\lib\\site-packages (from statsmodels->dtale) (0.5.1)\n"
     ]
    },
    {
     "name": "stderr",
     "output_type": "stream",
     "text": [
      "c:\\users\\pipek\\downloads\\wpy64-3810\\python-3.8.1.amd64\\lib\\site-packages\\statsmodels\\tools\\_testing.py:19: FutureWarning:\n",
      "\n",
      "pandas.util.testing is deprecated. Use the functions in the public API at pandas.testing instead.\n",
      "\n"
     ]
    }
   ],
   "source": [
    "! pip install category-encoders\n",
    "! pip install sweetviz\n",
    "! pip install dtale\n",
    "import pandas as pd\n",
    "import numpy as np\n",
    "import sweetviz as sv\n",
    "import dtale\n",
    "%matplotlib inline\n",
    "from category_encoders.woe import WOEEncoder\n",
    "\n",
    "pd.set_option('display.max_rows', 100)\n",
    "pd.set_option('display.max_columns', 100)\n",
    "pd.set_option('display.width', 1000)\n",
    "pd.set_option('display.float_format', lambda x: '%.3f' % x)\n",
    "\n",
    "df_acc = pd.read_csv(\"19_accept.csv\")\n",
    "df_rej = pd.read_csv(\"19_reject.csv\")"
   ]
  },
  {
   "cell_type": "code",
   "execution_count": 2,
   "metadata": {},
   "outputs": [
    {
     "name": "stdout",
     "output_type": "stream",
     "text": [
      "Размер accept: 32554\n",
      "Размер reject: 10693\n"
     ]
    },
    {
     "data": {
      "text/html": [
       "<div>\n",
       "<style scoped>\n",
       "    .dataframe tbody tr th:only-of-type {\n",
       "        vertical-align: middle;\n",
       "    }\n",
       "\n",
       "    .dataframe tbody tr th {\n",
       "        vertical-align: top;\n",
       "    }\n",
       "\n",
       "    .dataframe thead th {\n",
       "        text-align: right;\n",
       "    }\n",
       "</style>\n",
       "<table border=\"1\" class=\"dataframe\">\n",
       "  <thead>\n",
       "    <tr style=\"text-align: right;\">\n",
       "      <th></th>\n",
       "      <th>target</th>\n",
       "      <th>INCOME_TYPE</th>\n",
       "      <th>EDUCATION_</th>\n",
       "      <th>CUSTOMER_CATEGORY_</th>\n",
       "      <th>income</th>\n",
       "      <th>DEPENDANT_NUMBER</th>\n",
       "      <th>IS_EMPL</th>\n",
       "      <th>COUNT_ACTIVE_CREDIT_NO_CC</th>\n",
       "      <th>CNT_MNTH_FROM_LAST_PMNT</th>\n",
       "      <th>age</th>\n",
       "      <th>experience</th>\n",
       "      <th>inquiry_14_day</th>\n",
       "      <th>inquiry_21_day</th>\n",
       "      <th>count_mnth_act_passport</th>\n",
       "      <th>UID</th>\n",
       "    </tr>\n",
       "  </thead>\n",
       "  <tbody>\n",
       "    <tr>\n",
       "      <th>0</th>\n",
       "      <td>0</td>\n",
       "      <td>OTHER</td>\n",
       "      <td>elementary</td>\n",
       "      <td>NaN</td>\n",
       "      <td>140000.000</td>\n",
       "      <td>0.000</td>\n",
       "      <td>0</td>\n",
       "      <td>0.000</td>\n",
       "      <td>34.219</td>\n",
       "      <td>38.497</td>\n",
       "      <td>4.060</td>\n",
       "      <td>NaN</td>\n",
       "      <td>NaN</td>\n",
       "      <td>10.056</td>\n",
       "      <td>7</td>\n",
       "    </tr>\n",
       "    <tr>\n",
       "      <th>1</th>\n",
       "      <td>0</td>\n",
       "      <td>OTHER</td>\n",
       "      <td>advanced</td>\n",
       "      <td>Corporate</td>\n",
       "      <td>21611.000</td>\n",
       "      <td>0.000</td>\n",
       "      <td>1</td>\n",
       "      <td>NaN</td>\n",
       "      <td>NaN</td>\n",
       "      <td>33.333</td>\n",
       "      <td>1.712</td>\n",
       "      <td>NaN</td>\n",
       "      <td>NaN</td>\n",
       "      <td>7.973</td>\n",
       "      <td>15</td>\n",
       "    </tr>\n",
       "    <tr>\n",
       "      <th>2</th>\n",
       "      <td>0</td>\n",
       "      <td>OTHER</td>\n",
       "      <td>elementary</td>\n",
       "      <td>VIP</td>\n",
       "      <td>146841.000</td>\n",
       "      <td>0.000</td>\n",
       "      <td>1</td>\n",
       "      <td>0.000</td>\n",
       "      <td>30.531</td>\n",
       "      <td>36.531</td>\n",
       "      <td>0.578</td>\n",
       "      <td>0.000</td>\n",
       "      <td>0.000</td>\n",
       "      <td>7.738</td>\n",
       "      <td>17</td>\n",
       "    </tr>\n",
       "    <tr>\n",
       "      <th>3</th>\n",
       "      <td>0</td>\n",
       "      <td>OTHER</td>\n",
       "      <td>elementary</td>\n",
       "      <td>Corporate</td>\n",
       "      <td>102915.000</td>\n",
       "      <td>0.000</td>\n",
       "      <td>1</td>\n",
       "      <td>2.000</td>\n",
       "      <td>1.174</td>\n",
       "      <td>54.064</td>\n",
       "      <td>1.459</td>\n",
       "      <td>0.000</td>\n",
       "      <td>0.000</td>\n",
       "      <td>8.889</td>\n",
       "      <td>21</td>\n",
       "    </tr>\n",
       "    <tr>\n",
       "      <th>4</th>\n",
       "      <td>0</td>\n",
       "      <td>2NDFL</td>\n",
       "      <td>elementary</td>\n",
       "      <td>Corporate</td>\n",
       "      <td>51581.000</td>\n",
       "      <td>0.000</td>\n",
       "      <td>1</td>\n",
       "      <td>NaN</td>\n",
       "      <td>NaN</td>\n",
       "      <td>29.050</td>\n",
       "      <td>0.581</td>\n",
       "      <td>NaN</td>\n",
       "      <td>NaN</td>\n",
       "      <td>6.200</td>\n",
       "      <td>26</td>\n",
       "    </tr>\n",
       "    <tr>\n",
       "      <th>5</th>\n",
       "      <td>0</td>\n",
       "      <td>OTHER</td>\n",
       "      <td>elementary</td>\n",
       "      <td>Corporate</td>\n",
       "      <td>39713.000</td>\n",
       "      <td>0.000</td>\n",
       "      <td>1</td>\n",
       "      <td>0.000</td>\n",
       "      <td>1362.505</td>\n",
       "      <td>25.327</td>\n",
       "      <td>0.848</td>\n",
       "      <td>1.000</td>\n",
       "      <td>1.000</td>\n",
       "      <td>5.215</td>\n",
       "      <td>28</td>\n",
       "    </tr>\n",
       "    <tr>\n",
       "      <th>6</th>\n",
       "      <td>0</td>\n",
       "      <td>2NDFL</td>\n",
       "      <td>elementary</td>\n",
       "      <td>NaN</td>\n",
       "      <td>97414.000</td>\n",
       "      <td>0.000</td>\n",
       "      <td>0</td>\n",
       "      <td>2.000</td>\n",
       "      <td>-0.596</td>\n",
       "      <td>32.515</td>\n",
       "      <td>10.178</td>\n",
       "      <td>1.000</td>\n",
       "      <td>1.000</td>\n",
       "      <td>3.666</td>\n",
       "      <td>35</td>\n",
       "    </tr>\n",
       "    <tr>\n",
       "      <th>7</th>\n",
       "      <td>0</td>\n",
       "      <td>2NDFL</td>\n",
       "      <td>high</td>\n",
       "      <td>NaN</td>\n",
       "      <td>27697.000</td>\n",
       "      <td>0.000</td>\n",
       "      <td>0</td>\n",
       "      <td>0.000</td>\n",
       "      <td>1.506</td>\n",
       "      <td>26.874</td>\n",
       "      <td>3.584</td>\n",
       "      <td>0.000</td>\n",
       "      <td>0.000</td>\n",
       "      <td>6.573</td>\n",
       "      <td>39</td>\n",
       "    </tr>\n",
       "    <tr>\n",
       "      <th>8</th>\n",
       "      <td>0</td>\n",
       "      <td>OTHER</td>\n",
       "      <td>advanced</td>\n",
       "      <td>Corporate</td>\n",
       "      <td>25448.000</td>\n",
       "      <td>0.000</td>\n",
       "      <td>1</td>\n",
       "      <td>NaN</td>\n",
       "      <td>NaN</td>\n",
       "      <td>55.429</td>\n",
       "      <td>7.661</td>\n",
       "      <td>NaN</td>\n",
       "      <td>NaN</td>\n",
       "      <td>9.923</td>\n",
       "      <td>42</td>\n",
       "    </tr>\n",
       "    <tr>\n",
       "      <th>9</th>\n",
       "      <td>0</td>\n",
       "      <td>OTHER</td>\n",
       "      <td>elementary</td>\n",
       "      <td>Corporate</td>\n",
       "      <td>102207.000</td>\n",
       "      <td>0.000</td>\n",
       "      <td>0</td>\n",
       "      <td>1.000</td>\n",
       "      <td>0.049</td>\n",
       "      <td>34.241</td>\n",
       "      <td>8.874</td>\n",
       "      <td>2.000</td>\n",
       "      <td>2.000</td>\n",
       "      <td>10.282</td>\n",
       "      <td>50</td>\n",
       "    </tr>\n",
       "  </tbody>\n",
       "</table>\n",
       "</div>"
      ],
      "text/plain": [
       "   target INCOME_TYPE  EDUCATION_ CUSTOMER_CATEGORY_     income  DEPENDANT_NUMBER  IS_EMPL  COUNT_ACTIVE_CREDIT_NO_CC  CNT_MNTH_FROM_LAST_PMNT    age  experience  inquiry_14_day  inquiry_21_day  count_mnth_act_passport  UID\n",
       "0       0       OTHER  elementary                NaN 140000.000             0.000        0                      0.000                   34.219 38.497       4.060             NaN             NaN                   10.056    7\n",
       "1       0       OTHER    advanced          Corporate  21611.000             0.000        1                        NaN                      NaN 33.333       1.712             NaN             NaN                    7.973   15\n",
       "2       0       OTHER  elementary                VIP 146841.000             0.000        1                      0.000                   30.531 36.531       0.578           0.000           0.000                    7.738   17\n",
       "3       0       OTHER  elementary          Corporate 102915.000             0.000        1                      2.000                    1.174 54.064       1.459           0.000           0.000                    8.889   21\n",
       "4       0       2NDFL  elementary          Corporate  51581.000             0.000        1                        NaN                      NaN 29.050       0.581             NaN             NaN                    6.200   26\n",
       "5       0       OTHER  elementary          Corporate  39713.000             0.000        1                      0.000                 1362.505 25.327       0.848           1.000           1.000                    5.215   28\n",
       "6       0       2NDFL  elementary                NaN  97414.000             0.000        0                      2.000                   -0.596 32.515      10.178           1.000           1.000                    3.666   35\n",
       "7       0       2NDFL        high                NaN  27697.000             0.000        0                      0.000                    1.506 26.874       3.584           0.000           0.000                    6.573   39\n",
       "8       0       OTHER    advanced          Corporate  25448.000             0.000        1                        NaN                      NaN 55.429       7.661             NaN             NaN                    9.923   42\n",
       "9       0       OTHER  elementary          Corporate 102207.000             0.000        0                      1.000                    0.049 34.241       8.874           2.000           2.000                   10.282   50"
      ]
     },
     "execution_count": 2,
     "metadata": {},
     "output_type": "execute_result"
    }
   ],
   "source": [
    "# Первые строки заявок в accept\n",
    "print('Размер accept:', df_acc.shape[0])\n",
    "print('Размер reject:', df_rej.shape[0])\n",
    "df_acc.head(10)"
   ]
  },
  {
   "cell_type": "markdown",
   "metadata": {},
   "source": [
    "## 1. Какая доля 1 в выборке \"accept\"?"
   ]
  },
  {
   "cell_type": "code",
   "execution_count": 3,
   "metadata": {},
   "outputs": [
    {
     "data": {
      "text/plain": [
       "0.021410579345088162"
      ]
     },
     "execution_count": 3,
     "metadata": {},
     "output_type": "execute_result"
    }
   ],
   "source": [
    "df_acc[df_acc.target == 1].shape[0] / df_acc.shape[0]"
   ]
  },
  {
   "cell_type": "markdown",
   "metadata": {},
   "source": [
    "## 2. Статистики по переменным"
   ]
  },
  {
   "cell_type": "markdown",
   "metadata": {},
   "source": [
    "Необходимо рассчитать для всех интервальных переменных следующее:\n",
    " - Доля пропущенных значений \n",
    " - Медиана\n",
    " - Среднее\n",
    " - Среднеквадратическое отклонение\n",
    " - Есть ли аномальные значения, выбросы? \n",
    " - Information Value\n",
    " \n",
    " \n",
    "Необходимо рассчитать для всех категориальных переменных следующее:\n",
    " - Мода\n",
    " - Доля пропущенных значений\n",
    " - Information Value\n",
    " - Есть ли выбросы, аномальные значений\n",
    " \n",
    " \n",
    "На всё, кроме выбросов и IV ответит отчёт, который генерируется в следующей клетке (`report.html`). По нажатию на признак видны его основные показатели. Выбросы далее тоже будем оценивать исходя из отчёта. Information Value для всех переменных и для всех датасетов посчитаем после обучения модели для разметки reject"
   ]
  },
  {
   "cell_type": "code",
   "execution_count": 4,
   "metadata": {},
   "outputs": [
    {
     "data": {
      "application/vnd.jupyter.widget-view+json": {
       "model_id": "91427b708e304e06a120dc77a9c6cfcb",
       "version_major": 2,
       "version_minor": 0
      },
      "text/plain": [
       "                                             |                                             | [  0%]   00:00 ->…"
      ]
     },
     "metadata": {},
     "output_type": "display_data"
    },
    {
     "name": "stdout",
     "output_type": "stream",
     "text": [
      "Report report.html was generated! NOTEBOOK/COLAB USERS: the web browser MAY not pop up, regardless, the report IS saved in your notebook/colab files.\n"
     ]
    }
   ],
   "source": [
    "report = sv.compare([df_acc, \"AcceptDF\"], [df_rej, \"RejectDF\"], \"target\")\n",
    "report.show_html('report.html')"
   ]
  },
  {
   "cell_type": "markdown",
   "metadata": {},
   "source": [
    "Что насчёт выбросов?\n",
    "\n",
    "Есть люди с доходом, превышающим 500000. Очевидно, таких людей мы будем относить к одной какой-то категории `богачи`, запомнили.\n",
    "\n",
    "CNT_MNTH_FROM_LAST_PMNT ведёт себя довольно странно. Если я правильно понимаю, что это должно означать \"количество месяцев с последнего платежа\", то там не должно быть значений меньше 0. А они есть. И есть очень большие значения, больше 1000.\n",
    "\n",
    "experience, тоже почему-то бывает отрицательным, а бывает и очень большим, но это нормально, вероятно.\n",
    "\n",
    "count_mnth_act_passport, опять есть отрицательные значения\n",
    "\n",
    "В категориальных признаках аномалий не обнаружено"
   ]
  },
  {
   "cell_type": "markdown",
   "metadata": {},
   "source": [
    "## 4. Построить логистическую регрессию только на одобренных заявках с преобразованными переменными WoE. Какое значение GINI? F1 мера?"
   ]
  },
  {
   "cell_type": "markdown",
   "metadata": {},
   "source": [
    "Сначала заполним пропуски на основе отчёта. income заполним нулями, возможно у людей, про которых мы не знаем их доход, он не очень велик. experience заполним нулём как самой популярной категорией, да и пропусков там мало. Пропуски в других категориях просто выделим в отдельную категорию"
   ]
  },
  {
   "cell_type": "code",
   "execution_count": 5,
   "metadata": {},
   "outputs": [],
   "source": [
    "df_acc.income.fillna(value=0, inplace=True)\n",
    "df_rej.income.fillna(value=0, inplace=True)\n",
    "\n",
    "df_acc.experience.fillna(value=0, inplace=True)\n",
    "df_rej.experience.fillna(value=0, inplace=True)\n",
    "\n",
    "df_all = pd.concat([df_acc, df_rej])\n",
    "\n",
    "df_all.income                  = pd.qcut(df_all.income, q=10, labels=None)\n",
    "df_all.CNT_MNTH_FROM_LAST_PMNT = pd.qcut(df_all.CNT_MNTH_FROM_LAST_PMNT, q=10, labels=None)\n",
    "df_all.age                     = pd.qcut(df_all.age, q=10, labels=None)\n",
    "df_all.experience              = pd.qcut(df_all.experience, q=10, labels=None)\n",
    "df_all.count_mnth_act_passport = pd.qcut(df_all.count_mnth_act_passport, q=10, labels=None)\n",
    "df_all.UID                     = pd.qcut(df_all.UID, q=10, labels=None)\n",
    "\n",
    "dummies = pd.get_dummies(df_all, columns=df_all.columns.drop('target'), dummy_na=True)\n",
    "df_acc = dummies.iloc[:df_acc.shape[0], :]\n",
    "df_rej = dummies.iloc[df_rej.shape[0]:, :]"
   ]
  },
  {
   "cell_type": "code",
   "execution_count": 6,
   "metadata": {},
   "outputs": [],
   "source": [
    "from sklearn.ensemble import RandomForestClassifier\n",
    "from sklearn.model_selection import train_test_split\n",
    "from sklearn.metrics import f1_score, roc_auc_score\n",
    "\n",
    "X = df_acc.copy()\n",
    "y = X.target\n",
    "X = X.drop('target', axis=1)\n",
    "X_train, X_test, y_train, y_test = train_test_split(X, y, test_size=0.2, random_state=228179, stratify=y)"
   ]
  },
  {
   "cell_type": "code",
   "execution_count": 7,
   "metadata": {},
   "outputs": [],
   "source": [
    "model = RandomForestClassifier(max_features=\"log2\", max_depth=10)"
   ]
  },
  {
   "cell_type": "code",
   "execution_count": 8,
   "metadata": {},
   "outputs": [
    {
     "data": {
      "text/plain": [
       "RandomForestClassifier(bootstrap=True, ccp_alpha=0.0, class_weight=None,\n",
       "                       criterion='gini', max_depth=10, max_features='log2',\n",
       "                       max_leaf_nodes=None, max_samples=None,\n",
       "                       min_impurity_decrease=0.0, min_impurity_split=None,\n",
       "                       min_samples_leaf=1, min_samples_split=2,\n",
       "                       min_weight_fraction_leaf=0.0, n_estimators=100,\n",
       "                       n_jobs=None, oob_score=False, random_state=None,\n",
       "                       verbose=0, warm_start=False)"
      ]
     },
     "execution_count": 8,
     "metadata": {},
     "output_type": "execute_result"
    }
   ],
   "source": [
    "model.fit(X_train, y_train)"
   ]
  },
  {
   "cell_type": "code",
   "execution_count": 9,
   "metadata": {},
   "outputs": [
    {
     "name": "stdout",
     "output_type": "stream",
     "text": [
      "F1: 0.1342281879194631\n",
      "ROC AUC: 0.8362677089966445\n",
      "Gini: 0.672535417993289\n"
     ]
    }
   ],
   "source": [
    "print('F1:', f1_score(model.predict(X_test), y_test))\n",
    "roc_auc = roc_auc_score(y_test, model.predict_proba(X_test)[:, 1]) # roc_auc_score(model.predict(X_test), y_test)\n",
    "Gini = 2 * roc_auc - 1\n",
    "print('ROC AUC:', roc_auc)\n",
    "print('Gini:', Gini)"
   ]
  },
  {
   "cell_type": "markdown",
   "metadata": {},
   "source": [
    "## 5. Провести анализ Reject Inference. Какая доля отказанных заявок?"
   ]
  },
  {
   "cell_type": "markdown",
   "metadata": {},
   "source": [
    "Теперь обучим на всей выборке и разметим reject по такому порогу, чтобы доля отказанных заявок была примерно равна оной в accept"
   ]
  },
  {
   "cell_type": "code",
   "execution_count": 10,
   "metadata": {},
   "outputs": [],
   "source": [
    "model.fit(X, y)\n",
    "df_pred = df_rej.copy().drop('target', axis=1)\n",
    "df_pred['target'] = model.predict_proba(df_pred)[:, 1]\n",
    "df_pred['target'] = np.where(df_pred['target'] > 0.06, 1, 0)"
   ]
  },
  {
   "cell_type": "code",
   "execution_count": 20,
   "metadata": {},
   "outputs": [
    {
     "name": "stdout",
     "output_type": "stream",
     "text": [
      "доля отказанных заявок в reject: 0.02820504721897603\n"
     ]
    }
   ],
   "source": [
    "print('доля отказанных заявок в reject:', df_pred[df_pred.target == 1].shape[0] / df_pred[df_pred.target == 0].shape[0])"
   ]
  },
  {
   "cell_type": "code",
   "execution_count": 21,
   "metadata": {},
   "outputs": [
    {
     "name": "stdout",
     "output_type": "stream",
     "text": [
      "доля отказанных заявок в accept: 0.021879021879021878\n"
     ]
    }
   ],
   "source": [
    "print('доля отказанных заявок в accept:', df_acc[df_acc.target == 1].shape[0] / df_acc[df_acc.target == 0].shape[0])"
   ]
  },
  {
   "cell_type": "markdown",
   "metadata": {},
   "source": [
    "## 2 и 3 (продолжение)\n",
    "Наконец после разметки данных посчитаем WoE и Information Value для всех переменных и для всех датасетов"
   ]
  },
  {
   "cell_type": "code",
   "execution_count": 13,
   "metadata": {},
   "outputs": [],
   "source": [
    "# Полезные функции\n",
    "\n",
    "# source: https://gist.github.com/dradecic/52d8b2b2213dd3d46f4b75f85c1183f2\n",
    "def calculate_woe_iv(dataset, feature, target, iv=False, sort=False):\n",
    "    lst = []\n",
    "    for i in range(dataset[feature].nunique()):\n",
    "        val = list(dataset[feature].unique())[i]\n",
    "        lst.append({\n",
    "            'Value': val,\n",
    "            'All': dataset[dataset[feature] == val].count()[feature],\n",
    "            'Good': dataset[(dataset[feature] == val) & (dataset[target] == 0)].count()[feature],\n",
    "            'Bad': dataset[(dataset[feature] == val) & (dataset[target] == 1)].count()[feature]\n",
    "        })\n",
    "        \n",
    "    dset = pd.DataFrame(lst)\n",
    "    dset['Distr_Good'] = dset['Good'] / dset['Good'].sum()\n",
    "    dset['Distr_Bad'] = dset['Bad'] / dset['Bad'].sum()\n",
    "    dset['WoE'] = np.log(dset['Distr_Good'] / dset['Distr_Bad'])\n",
    "    dset = dset.replace({'WoE': {np.inf: 0, -np.inf: 0}})\n",
    "    dset['IV'] = (dset['Distr_Good'] - dset['Distr_Bad']) * dset['WoE']\n",
    "    if sort:\n",
    "        dset = dset.sort_values(by='WoE')\n",
    "        \n",
    "    if iv:\n",
    "        iv = dset['IV'].sum()\n",
    "        return dset, iv\n",
    "    else:\n",
    "        return dset\n",
    "\n",
    "# source: https://www.kaggle.com/puremath86/iv-woe-starter-for-python\n",
    "def woe_iv(dataframe, feature, target='target'):\n",
    "    return (pd.crosstab(dataframe[feature], dataframe[target], normalize='columns')\n",
    "        .assign(WoE = lambda df: np.log(df[1] / df[0])).replace({np.inf: 0, -np.inf: 0})\n",
    "        .assign(IV = lambda df: np.nansum(df.WoE * (df[1] - df[0])))\n",
    "    )"
   ]
  },
  {
   "cell_type": "code",
   "execution_count": 14,
   "metadata": {
    "scrolled": true
   },
   "outputs": [],
   "source": [
    "df_all_pred = df_acc.append(df_pred)\n",
    "for col in list(df_all_pred.columns)[1:]:\n",
    "    try:\n",
    "        print(woe_iv(df_all_pred[cols], col), \"\\n\")\n",
    "    except:\n",
    "        pass"
   ]
  },
  {
   "cell_type": "markdown",
   "metadata": {},
   "source": [
    "## 6. Построить логистическую регрессию на всех заявках с преобразованными переменными WoE"
   ]
  },
  {
   "cell_type": "code",
   "execution_count": 15,
   "metadata": {},
   "outputs": [],
   "source": [
    "X_train, X_test, y_train, y_test = train_test_split(df_all_pred.drop('target', axis=1),\n",
    "                                                    df_all_pred.target,\n",
    "                                                    test_size=0.2,\n",
    "                                                    random_state=4533357)"
   ]
  },
  {
   "cell_type": "code",
   "execution_count": 16,
   "metadata": {},
   "outputs": [
    {
     "name": "stdout",
     "output_type": "stream",
     "text": [
      "Wall time: 9 ms\n"
     ]
    },
    {
     "name": "stderr",
     "output_type": "stream",
     "text": [
      "c:\\users\\pipek\\downloads\\wpy64-3810\\python-3.8.1.amd64\\lib\\site-packages\\category_encoders\\utils.py:21: FutureWarning:\n",
      "\n",
      "is_categorical is deprecated and will be removed in a future version.  Use is_categorical_dtype instead\n",
      "\n"
     ]
    }
   ],
   "source": [
    "%%time\n",
    "WOE_encoder = WOEEncoder()\n",
    "X_train = WOE_encoder.fit_transform(X_train, y_train)\n",
    "X_test = WOE_encoder.transform(X_test)"
   ]
  },
  {
   "cell_type": "code",
   "execution_count": 17,
   "metadata": {},
   "outputs": [],
   "source": [
    "from sklearn.linear_model import LogisticRegression\n",
    "model = LogisticRegression()"
   ]
  },
  {
   "cell_type": "code",
   "execution_count": 18,
   "metadata": {},
   "outputs": [
    {
     "name": "stderr",
     "output_type": "stream",
     "text": [
      "c:\\users\\pipek\\downloads\\wpy64-3810\\python-3.8.1.amd64\\lib\\site-packages\\sklearn\\linear_model\\_logistic.py:937: ConvergenceWarning:\n",
      "\n",
      "lbfgs failed to converge (status=1):\n",
      "STOP: TOTAL NO. of ITERATIONS REACHED LIMIT.\n",
      "\n",
      "Increase the number of iterations (max_iter) or scale the data as shown in:\n",
      "    https://scikit-learn.org/stable/modules/preprocessing.html.\n",
      "Please also refer to the documentation for alternative solver options:\n",
      "    https://scikit-learn.org/stable/modules/linear_model.html#logistic-regression\n",
      "\n"
     ]
    },
    {
     "data": {
      "text/plain": [
       "LogisticRegression(C=1.0, class_weight=None, dual=False, fit_intercept=True,\n",
       "                   intercept_scaling=1, l1_ratio=None, max_iter=100,\n",
       "                   multi_class='auto', n_jobs=None, penalty='l2',\n",
       "                   random_state=None, solver='lbfgs', tol=0.0001, verbose=0,\n",
       "                   warm_start=False)"
      ]
     },
     "execution_count": 18,
     "metadata": {},
     "output_type": "execute_result"
    }
   ],
   "source": [
    "model.fit(X_train, y_train)"
   ]
  },
  {
   "cell_type": "code",
   "execution_count": 19,
   "metadata": {},
   "outputs": [
    {
     "name": "stdout",
     "output_type": "stream",
     "text": [
      "F1: 0.20708446866485014\n",
      "ROC AUC: 0.8841218431039979\n",
      "Gini: 0.7682436862079958\n"
     ]
    }
   ],
   "source": [
    "print('F1:', f1_score(model.predict(X_test), y_test))\n",
    "roc_auc = roc_auc_score(y_test, model.predict_proba(X_test)[:, 1])\n",
    "Gini = 2 * roc_auc - 1\n",
    "print('ROC AUC:', roc_auc)\n",
    "print('Gini:', Gini)"
   ]
  },
  {
   "cell_type": "markdown",
   "metadata": {},
   "source": [
    "## 7. Какую модель вы рекомендуете для внедрения в продуктивную среду? Дать развернутое пояснение"
   ]
  },
  {
   "cell_type": "markdown",
   "metadata": {},
   "source": [
    "Вторая модель получилась лучше по всем использованным метрикам, конечно, среди этих двух я порекомендую её. В целом можно было подойти более подробно к изучению выбросов, разбиению переменные на бины и последующему объединению похожих бинов, подбору гиперпараметров моделей и много чему ещё, но модель и так получилась достаточно хорошей, на мой взгляд"
   ]
  }
 ],
 "metadata": {
  "kernelspec": {
   "display_name": "Python 3",
   "language": "python",
   "name": "python3"
  },
  "language_info": {
   "codemirror_mode": {
    "name": "ipython",
    "version": 3
   },
   "file_extension": ".py",
   "mimetype": "text/x-python",
   "name": "python",
   "nbconvert_exporter": "python",
   "pygments_lexer": "ipython3",
   "version": "3.8.1"
  }
 },
 "nbformat": 4,
 "nbformat_minor": 2
}
